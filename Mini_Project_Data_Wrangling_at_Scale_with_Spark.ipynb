{
 "cells": [
  {
   "cell_type": "markdown",
   "metadata": {},
   "source": [
    "# Analyzing Web Server Logs with Apache Spark\n",
    "\n",
    "Apache Spark is an excellent and ideal framework for wrangling, analyzing and modeling on structured and unstructured data - at scale! In this mini-project, we will be focusing on one of the most popular use-cases in the industry - log analytics.\n",
    "\n",
    "Typically, server logs are a very common data source in enterprises and often contain a gold mine of actionable insights and information. Log data comes from many sources in an enterprise, such as the web, client and compute servers, applications, user-generated content, flat files. They can be used for monitoring servers, improving business and customer intelligence, building recommendation systems, fraud detection, and much more.\n",
    "\n",
    "Spark allows you to dump and store your logs in files on disk cheaply, while still providing rich APIs to perform data analysis at scale. This mini-project will show you how to use Apache Spark on real-world production logs from NASA and learn data wrangling and basic yet powerful techniques in exploratory data analysis.\n",
    "\n",
    "There are a total of 12 questions for you to solve along with some interactive examples which will help you learn aspects of leveraging spark for analyzing over 3 million logs at scale.\n",
    "\n",
    "Remember to focus on the __`# TODO: Replace <FILL IN> with appropriate code`__ sections to fill them up with necessary code to solve the desired questions in the notebook"
   ]
  },
  {
   "cell_type": "markdown",
   "metadata": {},
   "source": [
    "# Section 1 - Loading up Dependencies"
   ]
  },
  {
   "cell_type": "code",
   "execution_count": 1,
   "metadata": {},
   "outputs": [
    {
     "data": {
      "text/html": [
       "\n",
       "            <div>\n",
       "                <p><b>SparkSession - hive</b></p>\n",
       "                \n",
       "        <div>\n",
       "            <p><b>SparkContext</b></p>\n",
       "\n",
       "            <p><a href=\"http://172.17.0.3:4040\">Spark UI</a></p>\n",
       "\n",
       "            <dl>\n",
       "              <dt>Version</dt>\n",
       "                <dd><code>v2.2.1</code></dd>\n",
       "              <dt>Master</dt>\n",
       "                <dd><code>local[*]</code></dd>\n",
       "              <dt>AppName</dt>\n",
       "                <dd><code>PySparkShell</code></dd>\n",
       "            </dl>\n",
       "        </div>\n",
       "        \n",
       "            </div>\n",
       "        "
      ],
      "text/plain": [
       "<pyspark.sql.session.SparkSession at 0x7f6c7b922b38>"
      ]
     },
     "execution_count": 1,
     "metadata": {},
     "output_type": "execute_result"
    }
   ],
   "source": [
    "spark"
   ]
  },
  {
   "cell_type": "code",
   "execution_count": 2,
   "metadata": {},
   "outputs": [
    {
     "data": {
      "text/plain": [
       "<pyspark.sql.context.SQLContext at 0x7f6c7b922c18>"
      ]
     },
     "execution_count": 2,
     "metadata": {},
     "output_type": "execute_result"
    }
   ],
   "source": [
    "sqlContext"
   ]
  },
  {
   "cell_type": "code",
   "execution_count": 3,
   "metadata": {
    "collapsed": true
   },
   "outputs": [],
   "source": [
    "if 'sc' not in locals():\n",
    "    from pyspark.context import SparkContext\n",
    "    from pyspark.sql.context import SQLContext\n",
    "    from pyspark.sql.session import SparkSession\n",
    "    \n",
    "    sc = SparkContext()\n",
    "    sqlContext = SQLContext(sc)\n",
    "    spark = SparkSession(sc)"
   ]
  },
  {
   "cell_type": "code",
   "execution_count": 4,
   "metadata": {
    "collapsed": true
   },
   "outputs": [],
   "source": [
    "import re\n",
    "import pandas as pd"
   ]
  },
  {
   "cell_type": "code",
   "execution_count": 5,
   "metadata": {},
   "outputs": [
    {
     "name": "stdout",
     "output_type": "stream",
     "text": [
      "<_sre.SRE_Match object; span=(0, 25), match=\"I'm searching for a spark\">\n",
      "<_sre.SRE_Match object; span=(25, 36), match=' in PySpark'>\n"
     ]
    }
   ],
   "source": [
    "m = re.finditer(r'.*?(spark).*?', \"I'm searching for a spark in PySpark\", re.I)\n",
    "for match in m:\n",
    "    print(match)"
   ]
  },
  {
   "cell_type": "markdown",
   "metadata": {},
   "source": [
    "For this mini-project, we will analyze datasets from NASA Kennedy Space Center web server in Florida. The full data set is freely available for download [__here__](http://ita.ee.lbl.gov/html/contrib/NASA-HTTP.html).\n",
    "\n",
    "These two traces contain two month's worth of all HTTP requests to the NASA Kennedy Space Center WWW server in Florida. You can head over to the [__website__](http://ita.ee.lbl.gov/html/contrib/NASA-HTTP.html) and download the following files if needed OR just upload the files we have already provided for you into Domino's Cloud Platform (unless you plan to use Spark locally).\n",
    "\n",
    "- Jul 01 to Jul 31, ASCII format, 20.7 MB gzip compressed, 205.2 MB uncompressed: [ftp://ita.ee.lbl.gov/traces/NASA_access_log_Jul95.gz](ftp://ita.ee.lbl.gov/traces/NASA_access_log_Jul95.gz)\n",
    "- Aug 04 to Aug 31, ASCII format, 21.8 MB gzip compressed, 167.8 MB uncompressed: [ftp://ita.ee.lbl.gov/traces/NASA_access_log_Aug95.gz](ftp://ita.ee.lbl.gov/traces/NASA_access_log_Aug95.gz)\n",
    "\n",
    "Make sure both the files are in the same directory as this notebook."
   ]
  },
  {
   "cell_type": "markdown",
   "metadata": {},
   "source": [
    "# Section 2 - Loading and Viewing the Log Dataset\n",
    "\n",
    "Given that our data is stored in the following mentioned path, let's load it into a DataFrame. We'll do this in steps. First, we'll use `sqlContext.read.text()` or `spark.read.text()` to read the text file. This will produce a DataFrame with a single string column called `value`."
   ]
  },
  {
   "cell_type": "code",
   "execution_count": 6,
   "metadata": {},
   "outputs": [
    {
     "data": {
      "text/plain": [
       "['NASA_access_log_Aug95.gz', 'NASA_access_log_Jul95.gz']"
      ]
     },
     "execution_count": 6,
     "metadata": {},
     "output_type": "execute_result"
    }
   ],
   "source": [
    "import glob\n",
    "\n",
    "raw_data_files = glob.glob('*.gz')\n",
    "raw_data_files"
   ]
  },
  {
   "cell_type": "markdown",
   "metadata": {},
   "source": [
    "### Taking a look at the metadata of our dataframe"
   ]
  },
  {
   "cell_type": "code",
   "execution_count": 7,
   "metadata": {},
   "outputs": [
    {
     "name": "stdout",
     "output_type": "stream",
     "text": [
      "root\n",
      " |-- value: string (nullable = true)\n",
      "\n"
     ]
    }
   ],
   "source": [
    "base_df = spark.read.text(raw_data_files)\n",
    "base_df.printSchema()"
   ]
  },
  {
   "cell_type": "code",
   "execution_count": 8,
   "metadata": {},
   "outputs": [
    {
     "data": {
      "text/plain": [
       "pyspark.sql.dataframe.DataFrame"
      ]
     },
     "execution_count": 8,
     "metadata": {},
     "output_type": "execute_result"
    }
   ],
   "source": [
    "type(base_df)"
   ]
  },
  {
   "cell_type": "markdown",
   "metadata": {},
   "source": [
    "You can also convert a dataframe to an RDD if needed"
   ]
  },
  {
   "cell_type": "code",
   "execution_count": 9,
   "metadata": {},
   "outputs": [
    {
     "data": {
      "text/plain": [
       "pyspark.rdd.RDD"
      ]
     },
     "execution_count": 9,
     "metadata": {},
     "output_type": "execute_result"
    }
   ],
   "source": [
    "base_df_rdd = base_df.rdd\n",
    "type(base_df_rdd)"
   ]
  },
  {
   "cell_type": "markdown",
   "metadata": {},
   "source": [
    "### Viewing sample data in our dataframe\n",
    "Looks like it needs to be wrangled and parsed!"
   ]
  },
  {
   "cell_type": "code",
   "execution_count": 10,
   "metadata": {},
   "outputs": [
    {
     "name": "stdout",
     "output_type": "stream",
     "text": [
      "+-----------------------------------------------------------------------------------------------------------------------+\n",
      "|value                                                                                                                  |\n",
      "+-----------------------------------------------------------------------------------------------------------------------+\n",
      "|199.72.81.55 - - [01/Jul/1995:00:00:01 -0400] \"GET /history/apollo/ HTTP/1.0\" 200 6245                                 |\n",
      "|unicomp6.unicomp.net - - [01/Jul/1995:00:00:06 -0400] \"GET /shuttle/countdown/ HTTP/1.0\" 200 3985                      |\n",
      "|199.120.110.21 - - [01/Jul/1995:00:00:09 -0400] \"GET /shuttle/missions/sts-73/mission-sts-73.html HTTP/1.0\" 200 4085   |\n",
      "|burger.letters.com - - [01/Jul/1995:00:00:11 -0400] \"GET /shuttle/countdown/liftoff.html HTTP/1.0\" 304 0               |\n",
      "|199.120.110.21 - - [01/Jul/1995:00:00:11 -0400] \"GET /shuttle/missions/sts-73/sts-73-patch-small.gif HTTP/1.0\" 200 4179|\n",
      "|burger.letters.com - - [01/Jul/1995:00:00:12 -0400] \"GET /images/NASA-logosmall.gif HTTP/1.0\" 304 0                    |\n",
      "|burger.letters.com - - [01/Jul/1995:00:00:12 -0400] \"GET /shuttle/countdown/video/livevideo.gif HTTP/1.0\" 200 0        |\n",
      "|205.212.115.106 - - [01/Jul/1995:00:00:12 -0400] \"GET /shuttle/countdown/countdown.html HTTP/1.0\" 200 3985             |\n",
      "|d104.aa.net - - [01/Jul/1995:00:00:13 -0400] \"GET /shuttle/countdown/ HTTP/1.0\" 200 3985                               |\n",
      "|129.94.144.152 - - [01/Jul/1995:00:00:13 -0400] \"GET / HTTP/1.0\" 200 7074                                              |\n",
      "+-----------------------------------------------------------------------------------------------------------------------+\n",
      "only showing top 10 rows\n",
      "\n"
     ]
    }
   ],
   "source": [
    "base_df.show(10, truncate=False)"
   ]
  },
  {
   "cell_type": "markdown",
   "metadata": {},
   "source": [
    "Getting data from an RDD is slightly different. You can see how the data representation is different in the following RDD"
   ]
  },
  {
   "cell_type": "code",
   "execution_count": 11,
   "metadata": {},
   "outputs": [
    {
     "data": {
      "text/plain": [
       "[Row(value='199.72.81.55 - - [01/Jul/1995:00:00:01 -0400] \"GET /history/apollo/ HTTP/1.0\" 200 6245'),\n",
       " Row(value='unicomp6.unicomp.net - - [01/Jul/1995:00:00:06 -0400] \"GET /shuttle/countdown/ HTTP/1.0\" 200 3985'),\n",
       " Row(value='199.120.110.21 - - [01/Jul/1995:00:00:09 -0400] \"GET /shuttle/missions/sts-73/mission-sts-73.html HTTP/1.0\" 200 4085'),\n",
       " Row(value='burger.letters.com - - [01/Jul/1995:00:00:11 -0400] \"GET /shuttle/countdown/liftoff.html HTTP/1.0\" 304 0'),\n",
       " Row(value='199.120.110.21 - - [01/Jul/1995:00:00:11 -0400] \"GET /shuttle/missions/sts-73/sts-73-patch-small.gif HTTP/1.0\" 200 4179'),\n",
       " Row(value='burger.letters.com - - [01/Jul/1995:00:00:12 -0400] \"GET /images/NASA-logosmall.gif HTTP/1.0\" 304 0'),\n",
       " Row(value='burger.letters.com - - [01/Jul/1995:00:00:12 -0400] \"GET /shuttle/countdown/video/livevideo.gif HTTP/1.0\" 200 0'),\n",
       " Row(value='205.212.115.106 - - [01/Jul/1995:00:00:12 -0400] \"GET /shuttle/countdown/countdown.html HTTP/1.0\" 200 3985'),\n",
       " Row(value='d104.aa.net - - [01/Jul/1995:00:00:13 -0400] \"GET /shuttle/countdown/ HTTP/1.0\" 200 3985'),\n",
       " Row(value='129.94.144.152 - - [01/Jul/1995:00:00:13 -0400] \"GET / HTTP/1.0\" 200 7074')]"
      ]
     },
     "execution_count": 11,
     "metadata": {},
     "output_type": "execute_result"
    }
   ],
   "source": [
    "base_df_rdd.take(10)"
   ]
  },
  {
   "cell_type": "markdown",
   "metadata": {},
   "source": [
    "# Section 3 - Data Wrangling\n",
    "\n",
    "In this section, we will try and clean and parse our log dataset to really extract structured attributes with meaningful information from each log message.\n",
    "\n",
    "### Data understanding\n",
    "If you're familiar with web server logs, you'll recognize that the above displayed data is in [Common Log Format](https://www.w3.org/Daemon/User/Config/Logging.html#common-logfile-format). \n",
    "\n",
    "The fields are:\n",
    "__`remotehost rfc931 authuser [date] \"request\" status bytes`__\n",
    "\n",
    "\n",
    "| field         | meaning                                                                |\n",
    "| ------------- | ---------------------------------------------------------------------- |\n",
    "| _remotehost_  | Remote hostname (or IP number if DNS hostname is not available or if [DNSLookup](https://www.w3.org/Daemon/User/Config/General.html#DNSLookup) is off).       |\n",
    "| _rfc931_      | The remote logname of the user if at all it is present. |\n",
    "| _authuser_    | The username of the remote user after authentication by the HTTP server.  |\n",
    "| _[date]_      | Date and time of the request.                                      |\n",
    "| _\"request\"_   | The request, exactly as it came from the browser or client.            |\n",
    "| _status_      | The [HTTP status code](https://en.wikipedia.org/wiki/List_of_HTTP_status_codes) the server sent back to the client.               |\n",
    "| _bytes_       | The number of bytes (`Content-Length`) transferred to the client.      |\n",
    "\n",
    "We will need to use some specific techniques to parse, match and extract these attributes from the log data"
   ]
  },
  {
   "cell_type": "markdown",
   "metadata": {},
   "source": [
    "## Data Parsing and Extraction with Regular Expressions\n",
    "\n",
    "Next, we have to parse it into individual columns. We'll use the special built-in [regexp\\_extract()](http://spark.apache.org/docs/latest/api/python/pyspark.sql.html#pyspark.sql.functions.regexp_extract)\n",
    "function to do the parsing. This function matches a column against a regular expression with one or more [capture groups](http://regexone.com/lesson/capturing_groups) and allows you to extract one of the matched groups. We'll use one regular expression for each field we wish to extract.\n",
    "\n",
    "You must have heard or used a fair bit of regular expressions by now. If you find regular expressions confusing (and they certainly _can_ be), and you want to learn more about them, we recommend checking out the\n",
    "[RegexOne web site](http://regexone.com/). You might also find [_Regular Expressions Cookbook_](http://shop.oreilly.com/product/0636920023630.do), by Goyvaerts and Levithan, to be useful as a reference."
   ]
  },
  {
   "cell_type": "markdown",
   "metadata": {},
   "source": [
    "#### Let's take a look at our dataset dimensions"
   ]
  },
  {
   "cell_type": "code",
   "execution_count": 12,
   "metadata": {},
   "outputs": [
    {
     "name": "stdout",
     "output_type": "stream",
     "text": [
      "(3461613, 1)\n"
     ]
    }
   ],
   "source": [
    "print((base_df.count(), len(base_df.columns)))"
   ]
  },
  {
   "cell_type": "markdown",
   "metadata": {},
   "source": [
    "Let's extract and take a look at some sample log messages"
   ]
  },
  {
   "cell_type": "code",
   "execution_count": 13,
   "metadata": {},
   "outputs": [
    {
     "data": {
      "text/plain": [
       "['199.72.81.55 - - [01/Jul/1995:00:00:01 -0400] \"GET /history/apollo/ HTTP/1.0\" 200 6245',\n",
       " 'unicomp6.unicomp.net - - [01/Jul/1995:00:00:06 -0400] \"GET /shuttle/countdown/ HTTP/1.0\" 200 3985',\n",
       " '199.120.110.21 - - [01/Jul/1995:00:00:09 -0400] \"GET /shuttle/missions/sts-73/mission-sts-73.html HTTP/1.0\" 200 4085',\n",
       " 'burger.letters.com - - [01/Jul/1995:00:00:11 -0400] \"GET /shuttle/countdown/liftoff.html HTTP/1.0\" 304 0',\n",
       " '199.120.110.21 - - [01/Jul/1995:00:00:11 -0400] \"GET /shuttle/missions/sts-73/sts-73-patch-small.gif HTTP/1.0\" 200 4179',\n",
       " 'burger.letters.com - - [01/Jul/1995:00:00:12 -0400] \"GET /images/NASA-logosmall.gif HTTP/1.0\" 304 0',\n",
       " 'burger.letters.com - - [01/Jul/1995:00:00:12 -0400] \"GET /shuttle/countdown/video/livevideo.gif HTTP/1.0\" 200 0',\n",
       " '205.212.115.106 - - [01/Jul/1995:00:00:12 -0400] \"GET /shuttle/countdown/countdown.html HTTP/1.0\" 200 3985',\n",
       " 'd104.aa.net - - [01/Jul/1995:00:00:13 -0400] \"GET /shuttle/countdown/ HTTP/1.0\" 200 3985',\n",
       " '129.94.144.152 - - [01/Jul/1995:00:00:13 -0400] \"GET / HTTP/1.0\" 200 7074',\n",
       " 'unicomp6.unicomp.net - - [01/Jul/1995:00:00:14 -0400] \"GET /shuttle/countdown/count.gif HTTP/1.0\" 200 40310',\n",
       " 'unicomp6.unicomp.net - - [01/Jul/1995:00:00:14 -0400] \"GET /images/NASA-logosmall.gif HTTP/1.0\" 200 786',\n",
       " 'unicomp6.unicomp.net - - [01/Jul/1995:00:00:14 -0400] \"GET /images/KSC-logosmall.gif HTTP/1.0\" 200 1204',\n",
       " 'd104.aa.net - - [01/Jul/1995:00:00:15 -0400] \"GET /shuttle/countdown/count.gif HTTP/1.0\" 200 40310',\n",
       " 'd104.aa.net - - [01/Jul/1995:00:00:15 -0400] \"GET /images/NASA-logosmall.gif HTTP/1.0\" 200 786']"
      ]
     },
     "execution_count": 13,
     "metadata": {},
     "output_type": "execute_result"
    }
   ],
   "source": [
    "sample_logs = [item['value'] for item in base_df.take(15)]\n",
    "sample_logs"
   ]
  },
  {
   "cell_type": "markdown",
   "metadata": {},
   "source": [
    "### Extracting host names\n",
    "\n",
    "Let's try and write some regular expressions to extract the host name from the logs"
   ]
  },
  {
   "cell_type": "code",
   "execution_count": 14,
   "metadata": {},
   "outputs": [
    {
     "data": {
      "text/plain": [
       "['199.72.81.55',\n",
       " 'unicomp6.unicomp.net',\n",
       " '199.120.110.21',\n",
       " 'burger.letters.com',\n",
       " '199.120.110.21',\n",
       " 'burger.letters.com',\n",
       " 'burger.letters.com',\n",
       " '205.212.115.106',\n",
       " 'd104.aa.net',\n",
       " '129.94.144.152',\n",
       " 'unicomp6.unicomp.net',\n",
       " 'unicomp6.unicomp.net',\n",
       " 'unicomp6.unicomp.net',\n",
       " 'd104.aa.net',\n",
       " 'd104.aa.net']"
      ]
     },
     "execution_count": 14,
     "metadata": {},
     "output_type": "execute_result"
    }
   ],
   "source": [
    "host_pattern = r'(^\\S+\\.[\\S+\\.]+\\S+)\\s'\n",
    "hosts = [re.search(host_pattern, item).group(1)\n",
    "           if re.search(host_pattern, item)\n",
    "           else 'no match'\n",
    "           for item in sample_logs]\n",
    "hosts"
   ]
  },
  {
   "cell_type": "markdown",
   "metadata": {},
   "source": [
    "### Extracting timestamps \n",
    "\n",
    "Let's now try and use regular expressions to extract the timestamp fields from the logs"
   ]
  },
  {
   "cell_type": "code",
   "execution_count": 15,
   "metadata": {},
   "outputs": [
    {
     "data": {
      "text/plain": [
       "['01/Jul/1995:00:00:01 -0400',\n",
       " '01/Jul/1995:00:00:06 -0400',\n",
       " '01/Jul/1995:00:00:09 -0400',\n",
       " '01/Jul/1995:00:00:11 -0400',\n",
       " '01/Jul/1995:00:00:11 -0400',\n",
       " '01/Jul/1995:00:00:12 -0400',\n",
       " '01/Jul/1995:00:00:12 -0400',\n",
       " '01/Jul/1995:00:00:12 -0400',\n",
       " '01/Jul/1995:00:00:13 -0400',\n",
       " '01/Jul/1995:00:00:13 -0400',\n",
       " '01/Jul/1995:00:00:14 -0400',\n",
       " '01/Jul/1995:00:00:14 -0400',\n",
       " '01/Jul/1995:00:00:14 -0400',\n",
       " '01/Jul/1995:00:00:15 -0400',\n",
       " '01/Jul/1995:00:00:15 -0400']"
      ]
     },
     "execution_count": 15,
     "metadata": {},
     "output_type": "execute_result"
    }
   ],
   "source": [
    "ts_pattern = r'\\[(\\d{2}/\\w{3}/\\d{4}:\\d{2}:\\d{2}:\\d{2} -\\d{4})]'\n",
    "timestamps = [re.search(ts_pattern, item).group(1) for item in sample_logs]\n",
    "timestamps"
   ]
  },
  {
   "cell_type": "markdown",
   "metadata": {},
   "source": [
    "### Extracting HTTP Request Method, URIs and Protocol \n",
    "\n",
    "Let's now try and use regular expressions to extract the HTTP request methods, URIs and Protocol patterns fields from the logs"
   ]
  },
  {
   "cell_type": "code",
   "execution_count": 16,
   "metadata": {},
   "outputs": [
    {
     "data": {
      "text/plain": [
       "[('GET', '/history/apollo/', 'HTTP/1.0'),\n",
       " ('GET', '/shuttle/countdown/', 'HTTP/1.0'),\n",
       " ('GET', '/shuttle/missions/sts-73/mission-sts-73.html', 'HTTP/1.0'),\n",
       " ('GET', '/shuttle/countdown/liftoff.html', 'HTTP/1.0'),\n",
       " ('GET', '/shuttle/missions/sts-73/sts-73-patch-small.gif', 'HTTP/1.0'),\n",
       " ('GET', '/images/NASA-logosmall.gif', 'HTTP/1.0'),\n",
       " ('GET', '/shuttle/countdown/video/livevideo.gif', 'HTTP/1.0'),\n",
       " ('GET', '/shuttle/countdown/countdown.html', 'HTTP/1.0'),\n",
       " ('GET', '/shuttle/countdown/', 'HTTP/1.0'),\n",
       " ('GET', '/', 'HTTP/1.0'),\n",
       " ('GET', '/shuttle/countdown/count.gif', 'HTTP/1.0'),\n",
       " ('GET', '/images/NASA-logosmall.gif', 'HTTP/1.0'),\n",
       " ('GET', '/images/KSC-logosmall.gif', 'HTTP/1.0'),\n",
       " ('GET', '/shuttle/countdown/count.gif', 'HTTP/1.0'),\n",
       " ('GET', '/images/NASA-logosmall.gif', 'HTTP/1.0')]"
      ]
     },
     "execution_count": 16,
     "metadata": {},
     "output_type": "execute_result"
    }
   ],
   "source": [
    "method_uri_protocol_pattern = r'\\\"(\\S+)\\s(\\S+)\\s*(\\S*)\\\"'\n",
    "method_uri_protocol = [re.search(method_uri_protocol_pattern, item).groups()\n",
    "               if re.search(method_uri_protocol_pattern, item)\n",
    "               else 'no match'\n",
    "              for item in sample_logs]\n",
    "method_uri_protocol"
   ]
  },
  {
   "cell_type": "markdown",
   "metadata": {},
   "source": [
    "### Building an intermediate parsed dataframe\n",
    "\n",
    "Let's try and use our regular expressions we have implemented so far into parsing and extracting the relevant entities in separate columns in a new dataframe"
   ]
  },
  {
   "cell_type": "code",
   "execution_count": 17,
   "metadata": {},
   "outputs": [
    {
     "name": "stdout",
     "output_type": "stream",
     "text": [
      "+--------------------+--------------------------+------+-----------------------------------------------+--------+\n",
      "|host                |timestamp                 |method|endpoint                                       |protocol|\n",
      "+--------------------+--------------------------+------+-----------------------------------------------+--------+\n",
      "|199.72.81.55        |01/Jul/1995:00:00:01 -0400|GET   |/history/apollo/                               |HTTP/1.0|\n",
      "|unicomp6.unicomp.net|01/Jul/1995:00:00:06 -0400|GET   |/shuttle/countdown/                            |HTTP/1.0|\n",
      "|199.120.110.21      |01/Jul/1995:00:00:09 -0400|GET   |/shuttle/missions/sts-73/mission-sts-73.html   |HTTP/1.0|\n",
      "|burger.letters.com  |01/Jul/1995:00:00:11 -0400|GET   |/shuttle/countdown/liftoff.html                |HTTP/1.0|\n",
      "|199.120.110.21      |01/Jul/1995:00:00:11 -0400|GET   |/shuttle/missions/sts-73/sts-73-patch-small.gif|HTTP/1.0|\n",
      "|burger.letters.com  |01/Jul/1995:00:00:12 -0400|GET   |/images/NASA-logosmall.gif                     |HTTP/1.0|\n",
      "|burger.letters.com  |01/Jul/1995:00:00:12 -0400|GET   |/shuttle/countdown/video/livevideo.gif         |HTTP/1.0|\n",
      "|205.212.115.106     |01/Jul/1995:00:00:12 -0400|GET   |/shuttle/countdown/countdown.html              |HTTP/1.0|\n",
      "|d104.aa.net         |01/Jul/1995:00:00:13 -0400|GET   |/shuttle/countdown/                            |HTTP/1.0|\n",
      "|129.94.144.152      |01/Jul/1995:00:00:13 -0400|GET   |/                                              |HTTP/1.0|\n",
      "+--------------------+--------------------------+------+-----------------------------------------------+--------+\n",
      "only showing top 10 rows\n",
      "\n",
      "(3461613, 5)\n"
     ]
    }
   ],
   "source": [
    "from pyspark.sql.functions import regexp_extract\n",
    "\n",
    "logs_df = base_df.select(regexp_extract('value', host_pattern, 1).alias('host'),\n",
    "                         regexp_extract('value', ts_pattern, 1).alias('timestamp'),\n",
    "                         regexp_extract('value', method_uri_protocol_pattern, 1).alias('method'),\n",
    "                         regexp_extract('value', method_uri_protocol_pattern, 2).alias('endpoint'),\n",
    "                         regexp_extract('value', method_uri_protocol_pattern, 3).alias('protocol'))\n",
    "logs_df.show(10, truncate=False)\n",
    "print((logs_df.count(), len(logs_df.columns)))"
   ]
  },
  {
   "cell_type": "markdown",
   "metadata": {},
   "source": [
    "### Extracting HTTP Status Codes\n",
    "\n",
    "Let's now try and use regular expressions to extract the HTTP status codes from the logs"
   ]
  },
  {
   "cell_type": "code",
   "execution_count": 18,
   "metadata": {},
   "outputs": [
    {
     "name": "stdout",
     "output_type": "stream",
     "text": [
      "['200', '200', '200', '304', '200', '304', '200', '200', '200', '200', '200', '200', '200', '200', '200']\n"
     ]
    }
   ],
   "source": [
    "status_pattern = r'\\s(\\d{3})\\s'\n",
    "status = [re.search(status_pattern, item).group(1) for item in sample_logs]\n",
    "print(status)"
   ]
  },
  {
   "cell_type": "markdown",
   "metadata": {},
   "source": [
    "### Extracting HTTP Response Content Size\n",
    "\n",
    "Let's now try and use regular expressions to extract the HTTP response content size from the logs"
   ]
  },
  {
   "cell_type": "code",
   "execution_count": 19,
   "metadata": {},
   "outputs": [
    {
     "name": "stdout",
     "output_type": "stream",
     "text": [
      "['6245', '3985', '4085', '0', '4179', '0', '0', '3985', '3985', '7074', '40310', '786', '1204', '40310', '786']\n"
     ]
    }
   ],
   "source": [
    "content_size_pattern = r'\\s(\\d+)$'\n",
    "content_size = [re.search(content_size_pattern, item).group(1) for item in sample_logs]\n",
    "print(content_size)"
   ]
  },
  {
   "cell_type": "markdown",
   "metadata": {},
   "source": [
    "## Q1: Your Turn: Putting it all together \n",
    "\n",
    "Let's now try and leverage all the regular expression patterns we previously built and use the `regexp_extract(...)` method to build our dataframe with all the log attributes neatly extracted in their own separate columns.\n",
    "\n",
    "- You can reuse the code we used previously to build the intermediate dataframe\n",
    "- Remember to cast the HTTP status code and content size as integers. \n",
    "- You can cast data as integer type using the following: __`regexp_extract('value', ...., ...).cast('integer').alias(...)`__"
   ]
  },
  {
   "cell_type": "code",
   "execution_count": 20,
   "metadata": {},
   "outputs": [
    {
     "name": "stdout",
     "output_type": "stream",
     "text": [
      "+--------------------+--------------------+------+--------------------+--------+------+------------+\n",
      "|                host|           timestamp|method|            endpoint|protocol|status|content_size|\n",
      "+--------------------+--------------------+------+--------------------+--------+------+------------+\n",
      "|        199.72.81.55|01/Jul/1995:00:00...|   GET|    /history/apollo/|HTTP/1.0|   200|        6245|\n",
      "|unicomp6.unicomp.net|01/Jul/1995:00:00...|   GET| /shuttle/countdown/|HTTP/1.0|   200|        3985|\n",
      "|      199.120.110.21|01/Jul/1995:00:00...|   GET|/shuttle/missions...|HTTP/1.0|   200|        4085|\n",
      "|  burger.letters.com|01/Jul/1995:00:00...|   GET|/shuttle/countdow...|HTTP/1.0|   304|           0|\n",
      "|      199.120.110.21|01/Jul/1995:00:00...|   GET|/shuttle/missions...|HTTP/1.0|   200|        4179|\n",
      "|  burger.letters.com|01/Jul/1995:00:00...|   GET|/images/NASA-logo...|HTTP/1.0|   304|           0|\n",
      "|  burger.letters.com|01/Jul/1995:00:00...|   GET|/shuttle/countdow...|HTTP/1.0|   200|           0|\n",
      "|     205.212.115.106|01/Jul/1995:00:00...|   GET|/shuttle/countdow...|HTTP/1.0|   200|        3985|\n",
      "|         d104.aa.net|01/Jul/1995:00:00...|   GET| /shuttle/countdown/|HTTP/1.0|   200|        3985|\n",
      "|      129.94.144.152|01/Jul/1995:00:00...|   GET|                   /|HTTP/1.0|   200|        7074|\n",
      "+--------------------+--------------------+------+--------------------+--------+------+------------+\n",
      "only showing top 10 rows\n",
      "\n",
      "(3461613, 7)\n"
     ]
    }
   ],
   "source": [
    "# TODO: Replace <FILL IN> with appropriate code\n",
    "\n",
    "logs_df = base_df.select(regexp_extract('value', host_pattern, 1).alias('host'),\n",
    "                         regexp_extract('value', ts_pattern, 1).alias('timestamp'),\n",
    "                         regexp_extract('value', method_uri_protocol_pattern, 1).alias('method'),\n",
    "                         regexp_extract('value', method_uri_protocol_pattern, 2).alias('endpoint'),\n",
    "                         regexp_extract('value', method_uri_protocol_pattern, 3).alias('protocol'),\n",
    "                         regexp_extract('value', status_pattern, 1).cast('integer').alias('status'),\n",
    "                         regexp_extract('value', content_size_pattern, 1).cast('integer').alias('content_size'))\n",
    "logs_df.show(10, truncate=True)\n",
    "print((logs_df.count(), len(logs_df.columns)))"
   ]
  },
  {
   "cell_type": "markdown",
   "metadata": {},
   "source": [
    "## Finding Missing Values\n",
    "\n",
    "Missing and null values are the bane of data analysis and machine learning. Let's see how well our data parsing and extraction logic worked. First, let's verify that there are no null rows in the original dataframe."
   ]
  },
  {
   "cell_type": "code",
   "execution_count": 21,
   "metadata": {},
   "outputs": [
    {
     "data": {
      "text/plain": [
       "0"
      ]
     },
     "execution_count": 21,
     "metadata": {},
     "output_type": "execute_result"
    }
   ],
   "source": [
    "base_df.filter(base_df['value'].isNull()).count()"
   ]
  },
  {
   "cell_type": "markdown",
   "metadata": {},
   "source": [
    "If our data parsing and extraction worked properly, we should not have any rows with potential null values. Let's try and put that to test!"
   ]
  },
  {
   "cell_type": "code",
   "execution_count": 22,
   "metadata": {},
   "outputs": [
    {
     "data": {
      "text/plain": [
       "33905"
      ]
     },
     "execution_count": 22,
     "metadata": {},
     "output_type": "execute_result"
    }
   ],
   "source": [
    "bad_rows_df = logs_df.filter(logs_df['host'].isNull()| \n",
    "                             logs_df['timestamp'].isNull() | \n",
    "                             logs_df['method'].isNull() |\n",
    "                             logs_df['endpoint'].isNull() |\n",
    "                             logs_df['status'].isNull() |\n",
    "                             logs_df['content_size'].isNull()|\n",
    "                             logs_df['protocol'].isNull())\n",
    "bad_rows_df.count()"
   ]
  },
  {
   "cell_type": "markdown",
   "metadata": {},
   "source": [
    "Ouch! Looks like we have over 30K missing values in our data! Can we handle this?"
   ]
  },
  {
   "cell_type": "markdown",
   "metadata": {},
   "source": [
    "Do remember, this is not a regular pandas dataframe which you can directly query and get which columns have null. Our so-called _big dataset_ is residing on disk which can potentially be present in multiple nodes in a spark cluster. So how do we find out which columns have potential nulls? \n",
    "\n",
    "### Finding Null Counts\n",
    "\n",
    "We can typically use the following technique to find out which columns have null values. \n",
    "\n",
    "(__Note:__ This approach is adapted from an [excellent answer](http://stackoverflow.com/a/33901312) on StackOverflow.)"
   ]
  },
  {
   "cell_type": "code",
   "execution_count": 23,
   "metadata": {},
   "outputs": [
    {
     "data": {
      "text/plain": [
       "['host',\n",
       " 'timestamp',\n",
       " 'method',\n",
       " 'endpoint',\n",
       " 'protocol',\n",
       " 'status',\n",
       " 'content_size']"
      ]
     },
     "execution_count": 23,
     "metadata": {},
     "output_type": "execute_result"
    }
   ],
   "source": [
    "logs_df.columns"
   ]
  },
  {
   "cell_type": "code",
   "execution_count": 24,
   "metadata": {},
   "outputs": [
    {
     "name": "stdout",
     "output_type": "stream",
     "text": [
      "+----+---------+------+--------+--------+------+------------+\n",
      "|host|timestamp|method|endpoint|protocol|status|content_size|\n",
      "+----+---------+------+--------+--------+------+------------+\n",
      "|   0|        0|     0|       0|       0|     1|       33905|\n",
      "+----+---------+------+--------+--------+------+------------+\n",
      "\n"
     ]
    }
   ],
   "source": [
    "from pyspark.sql.functions import col\n",
    "from pyspark.sql.functions import sum as spark_sum\n",
    "\n",
    "def count_null(col_name):\n",
    "    return spark_sum(col(col_name).isNull().cast('integer')).alias(col_name)\n",
    "\n",
    "# Build up a list of column expressions, one per column.\n",
    "exprs = [count_null(col_name) for col_name in logs_df.columns]\n",
    "\n",
    "# Run the aggregation. The *exprs converts the list of expressions into\n",
    "# variable function arguments.\n",
    "logs_df.agg(*exprs).show()"
   ]
  },
  {
   "cell_type": "markdown",
   "metadata": {},
   "source": [
    "Well, looks like we have one missing value in the `status` column and everything else is in the `content_size` column. \n",
    "Let's see if we can figure out what's wrong!"
   ]
  },
  {
   "cell_type": "markdown",
   "metadata": {},
   "source": [
    "### Handling nulls in HTTP status\n",
    "\n",
    "If you had solved it correctly, our original parsing regular expression for the `status` column was:\n",
    "\n",
    "```\n",
    "regexp_extract('value', r'\\s(\\d{3})\\s', 1).cast('integer').alias('status')\n",
    "``` \n",
    "\n",
    "Could it be that there are more digits making our regular expression wrong? or is the data point itself bad? Let's try and find out!\n",
    "\n",
    "**Note**: In the expression below, `~` means \"not\"."
   ]
  },
  {
   "cell_type": "code",
   "execution_count": 25,
   "metadata": {},
   "outputs": [
    {
     "data": {
      "text/plain": [
       "1"
      ]
     },
     "execution_count": 25,
     "metadata": {},
     "output_type": "execute_result"
    }
   ],
   "source": [
    "null_status_df = base_df.filter(~base_df['value'].rlike(r'\\s(\\d{3})\\s'))\n",
    "null_status_df.count()"
   ]
  },
  {
   "cell_type": "code",
   "execution_count": 26,
   "metadata": {},
   "outputs": [
    {
     "name": "stdout",
     "output_type": "stream",
     "text": [
      "+--------+\n",
      "|value   |\n",
      "+--------+\n",
      "|alyssa.p|\n",
      "+--------+\n",
      "\n"
     ]
    }
   ],
   "source": [
    "null_status_df.show(truncate=False)"
   ]
  },
  {
   "cell_type": "code",
   "execution_count": 27,
   "metadata": {},
   "outputs": [
    {
     "name": "stdout",
     "output_type": "stream",
     "text": [
      "+----+---------+------+--------+--------+------+------------+\n",
      "|host|timestamp|method|endpoint|protocol|status|content_size|\n",
      "+----+---------+------+--------+--------+------+------------+\n",
      "|    |         |      |        |        |null  |null        |\n",
      "+----+---------+------+--------+--------+------+------------+\n",
      "\n"
     ]
    }
   ],
   "source": [
    "bad_status_df = null_status_df.select(regexp_extract('value', host_pattern, 1).alias('host'),\n",
    "                                      regexp_extract('value', ts_pattern, 1).alias('timestamp'),\n",
    "                                      regexp_extract('value', method_uri_protocol_pattern, 1).alias('method'),\n",
    "                                      regexp_extract('value', method_uri_protocol_pattern, 2).alias('endpoint'),\n",
    "                                      regexp_extract('value', method_uri_protocol_pattern, 3).alias('protocol'),\n",
    "                                      regexp_extract('value', status_pattern, 1).cast('integer').alias('status'),\n",
    "                                      regexp_extract('value', content_size_pattern, 1).cast('integer').alias('content_size'))\n",
    "bad_status_df.show(truncate=False)"
   ]
  },
  {
   "cell_type": "markdown",
   "metadata": {},
   "source": [
    "Looks like the record itself is an incomplete record with no useful information, the best option would be to drop this record as follows!"
   ]
  },
  {
   "cell_type": "code",
   "execution_count": 28,
   "metadata": {},
   "outputs": [
    {
     "data": {
      "text/plain": [
       "3461613"
      ]
     },
     "execution_count": 28,
     "metadata": {},
     "output_type": "execute_result"
    }
   ],
   "source": [
    "logs_df.count()"
   ]
  },
  {
   "cell_type": "code",
   "execution_count": 29,
   "metadata": {},
   "outputs": [
    {
     "data": {
      "text/plain": [
       "3461612"
      ]
     },
     "execution_count": 29,
     "metadata": {},
     "output_type": "execute_result"
    }
   ],
   "source": [
    "logs_df = logs_df[logs_df['status'].isNotNull()]\n",
    "logs_df.count()"
   ]
  },
  {
   "cell_type": "code",
   "execution_count": 30,
   "metadata": {},
   "outputs": [
    {
     "name": "stdout",
     "output_type": "stream",
     "text": [
      "+----+---------+------+--------+--------+------+------------+\n",
      "|host|timestamp|method|endpoint|protocol|status|content_size|\n",
      "+----+---------+------+--------+--------+------+------------+\n",
      "|   0|        0|     0|       0|       0|     0|       33904|\n",
      "+----+---------+------+--------+--------+------+------------+\n",
      "\n"
     ]
    }
   ],
   "source": [
    "exprs = [count_null(col_name) for col_name in logs_df.columns]\n",
    "logs_df.agg(*exprs).show()"
   ]
  },
  {
   "cell_type": "markdown",
   "metadata": {},
   "source": [
    "### Handling nulls in HTTP content size\n",
    "\n",
    "Again based on our previous regular expression and assuming you were able to solve it correctly, our original parsing regular expression for the `content_size` column was:\n",
    "\n",
    "```\n",
    "regexp_extract('value', r'\\s(\\d+)$', 1).cast('integer').alias('content_size')\n",
    "``` \n",
    "\n",
    "Could there be missing data in our original dataset itself? Let's try and find out!"
   ]
  },
  {
   "cell_type": "markdown",
   "metadata": {},
   "source": [
    "### Q2: Your Turn: Find out the records in our base data frame with potential missing content sizes\n",
    "\n",
    "- Use the `r'\\s\\d+$'` regex pattern with the `rlike()` function like we demonstrated in the previous example\n",
    "- Remember to work on `base_df` since we are searching on the raw records NOT the parsed `logs_df`\n",
    "- Find the total count of the records with missing content size in `base_df` using the `count()` function"
   ]
  },
  {
   "cell_type": "code",
   "execution_count": 31,
   "metadata": {},
   "outputs": [
    {
     "data": {
      "text/plain": [
       "33905"
      ]
     },
     "execution_count": 31,
     "metadata": {},
     "output_type": "execute_result"
    }
   ],
   "source": [
    "# TODO: Replace <FILL IN> with appropriate code\n",
    "\n",
    "null_content_size_df = base_df.select(regexp_extract('value', content_size_pattern, 1).cast('integer').alias('content_size'))\n",
    "null_content_size_df = null_content_size_df[null_content_size_df['content_size'].isNull()]\n",
    "null_content_size_df.count()"
   ]
  },
  {
   "cell_type": "markdown",
   "metadata": {},
   "source": [
    "### Q3: Your Turn: Display the top ten records of your data frame having missing content sizes"
   ]
  },
  {
   "cell_type": "code",
   "execution_count": 32,
   "metadata": {},
   "outputs": [
    {
     "data": {
      "text/plain": [
       "[Row(content_size=None),\n",
       " Row(content_size=None),\n",
       " Row(content_size=None),\n",
       " Row(content_size=None),\n",
       " Row(content_size=None),\n",
       " Row(content_size=None),\n",
       " Row(content_size=None),\n",
       " Row(content_size=None),\n",
       " Row(content_size=None),\n",
       " Row(content_size=None)]"
      ]
     },
     "execution_count": 32,
     "metadata": {},
     "output_type": "execute_result"
    }
   ],
   "source": [
    "# TODO: Replace <FILL IN> with appropriate code\n",
    "\n",
    "null_content_size_df.head(10)"
   ]
  },
  {
   "cell_type": "markdown",
   "metadata": {},
   "source": [
    "Assuming you were able to get to the missing records above, it is quite evident that the bad raw data records correspond to error responses, where no content was sent back and the server emitted a \"`-`\" for the `content_size` field. \n",
    "\n",
    "Since we don't want to discard those rows from our analysis, let's impute or fill them to 0."
   ]
  },
  {
   "cell_type": "markdown",
   "metadata": {},
   "source": [
    "### Q4: Your Turn: Fix the rows with null content\\_size\n",
    "\n",
    "The easiest solution is to replace the null values in `logs_df` with 0 like we discussed earlier. The Spark DataFrame API provides a set of functions and fields specifically designed for working with null values, among them:\n",
    "\n",
    "* [fillna()](http://spark.apache.org/docs/latest/api/python/pyspark.sql.html#pyspark.sql.DataFrame.fillna), which fills null values with specified non-null values.\n",
    "* [na](http://spark.apache.org/docs/latest/api/python/pyspark.sql.html#pyspark.sql.DataFrame.na), which returns a [DataFrameNaFunctions](http://spark.apache.org/docs/latest/api/python/pyspark.sql.html#pyspark.sql.DataFrameNaFunctions) object with many functions for operating on null columns.\n",
    "\n",
    "There are several ways to invoke this function. The easiest is just to replace _all_ null columns with known values. But, for safety, it's better to pass a Python dictionary containing (column\\_name, value) mappings. That's what we'll do. A sample example from the documentation is depicted below\n",
    "\n",
    "```\n",
    ">>> df4.na.fill({'age': 50, 'name': 'unknown'}).show()\n",
    "+---+------+-------+\n",
    "|age|height|   name|\n",
    "+---+------+-------+\n",
    "| 10|    80|  Alice|\n",
    "|  5|  null|    Bob|\n",
    "| 50|  null|    Tom|\n",
    "| 50|  null|unknown|\n",
    "+---+------+-------+\n",
    "```\n",
    "\n",
    "Now use this function and fill all the missing values in the `content_size` field with 0!"
   ]
  },
  {
   "cell_type": "code",
   "execution_count": 33,
   "metadata": {},
   "outputs": [
    {
     "name": "stdout",
     "output_type": "stream",
     "text": [
      "+--------------------+--------------------+------+--------------------+--------+------+------------+\n",
      "|                host|           timestamp|method|            endpoint|protocol|status|content_size|\n",
      "+--------------------+--------------------+------+--------------------+--------+------+------------+\n",
      "|        199.72.81.55|01/Jul/1995:00:00...|   GET|    /history/apollo/|HTTP/1.0|   200|        6245|\n",
      "|unicomp6.unicomp.net|01/Jul/1995:00:00...|   GET| /shuttle/countdown/|HTTP/1.0|   200|        3985|\n",
      "|      199.120.110.21|01/Jul/1995:00:00...|   GET|/shuttle/missions...|HTTP/1.0|   200|        4085|\n",
      "|  burger.letters.com|01/Jul/1995:00:00...|   GET|/shuttle/countdow...|HTTP/1.0|   304|           0|\n",
      "|      199.120.110.21|01/Jul/1995:00:00...|   GET|/shuttle/missions...|HTTP/1.0|   200|        4179|\n",
      "|  burger.letters.com|01/Jul/1995:00:00...|   GET|/images/NASA-logo...|HTTP/1.0|   304|           0|\n",
      "|  burger.letters.com|01/Jul/1995:00:00...|   GET|/shuttle/countdow...|HTTP/1.0|   200|           0|\n",
      "|     205.212.115.106|01/Jul/1995:00:00...|   GET|/shuttle/countdow...|HTTP/1.0|   200|        3985|\n",
      "|         d104.aa.net|01/Jul/1995:00:00...|   GET| /shuttle/countdown/|HTTP/1.0|   200|        3985|\n",
      "|      129.94.144.152|01/Jul/1995:00:00...|   GET|                   /|HTTP/1.0|   200|        7074|\n",
      "|unicomp6.unicomp.net|01/Jul/1995:00:00...|   GET|/shuttle/countdow...|HTTP/1.0|   200|       40310|\n",
      "|unicomp6.unicomp.net|01/Jul/1995:00:00...|   GET|/images/NASA-logo...|HTTP/1.0|   200|         786|\n",
      "|unicomp6.unicomp.net|01/Jul/1995:00:00...|   GET|/images/KSC-logos...|HTTP/1.0|   200|        1204|\n",
      "|         d104.aa.net|01/Jul/1995:00:00...|   GET|/shuttle/countdow...|HTTP/1.0|   200|       40310|\n",
      "|         d104.aa.net|01/Jul/1995:00:00...|   GET|/images/NASA-logo...|HTTP/1.0|   200|         786|\n",
      "|         d104.aa.net|01/Jul/1995:00:00...|   GET|/images/KSC-logos...|HTTP/1.0|   200|        1204|\n",
      "|      129.94.144.152|01/Jul/1995:00:00...|   GET|/images/ksclogo-m...|HTTP/1.0|   304|           0|\n",
      "|      199.120.110.21|01/Jul/1995:00:00...|   GET|/images/launch-lo...|HTTP/1.0|   200|        1713|\n",
      "|ppptky391.asahi-n...|01/Jul/1995:00:00...|   GET|/facts/about_ksc....|HTTP/1.0|   200|        3977|\n",
      "|  net-1-141.eden.com|01/Jul/1995:00:00...|   GET|/shuttle/missions...|HTTP/1.0|   200|       34029|\n",
      "+--------------------+--------------------+------+--------------------+--------+------+------------+\n",
      "only showing top 20 rows\n",
      "\n"
     ]
    }
   ],
   "source": [
    "# TODO: Replace <FILL IN> with appropriate code\n",
    "\n",
    "logs_df = logs_df.fillna(0, subset=['content_size'])\n",
    "logs_df.show()"
   ]
  },
  {
   "cell_type": "markdown",
   "metadata": {},
   "source": [
    "Now assuming you were able to fill in the missing values successfully in the previous question, we should have no missing values \\ nulls in our dataset. Let's verify this!"
   ]
  },
  {
   "cell_type": "code",
   "execution_count": 34,
   "metadata": {},
   "outputs": [
    {
     "name": "stdout",
     "output_type": "stream",
     "text": [
      "+----+---------+------+--------+--------+------+------------+\n",
      "|host|timestamp|method|endpoint|protocol|status|content_size|\n",
      "+----+---------+------+--------+--------+------+------------+\n",
      "|   0|        0|     0|       0|       0|     0|           0|\n",
      "+----+---------+------+--------+--------+------+------------+\n",
      "\n"
     ]
    }
   ],
   "source": [
    "exprs = [count_null(col_name) for col_name in logs_df.columns]\n",
    "logs_df.agg(*exprs).show()"
   ]
  },
  {
   "cell_type": "markdown",
   "metadata": {},
   "source": [
    "Look at that, no missing values! "
   ]
  },
  {
   "cell_type": "markdown",
   "metadata": {},
   "source": [
    "## Handling Temporal Fields (Timestamp)\n",
    "\n",
    "Now that we have a clean, parsed DataFrame, we have to parse the timestamp field into an actual timestamp. The Common Log Format time is somewhat non-standard. A User-Defined Function (UDF) is the most straightforward way to parse it."
   ]
  },
  {
   "cell_type": "code",
   "execution_count": 35,
   "metadata": {
    "collapsed": true
   },
   "outputs": [],
   "source": [
    "from pyspark.sql.functions import udf\n",
    "\n",
    "month_map = {\n",
    "  'Jan': 1, 'Feb': 2, 'Mar':3, 'Apr':4, 'May':5, 'Jun':6, 'Jul':7,\n",
    "  'Aug':8,  'Sep': 9, 'Oct':10, 'Nov': 11, 'Dec': 12\n",
    "}\n",
    "\n",
    "def parse_clf_time(text):\n",
    "    \"\"\" Convert Common Log time format into a Python datetime object\n",
    "    Args:\n",
    "        text (str): date and time in Apache time format [dd/mmm/yyyy:hh:mm:ss (+/-)zzzz]\n",
    "    Returns:\n",
    "        a string suitable for passing to CAST('timestamp')\n",
    "    \"\"\"\n",
    "    # NOTE: We're ignoring time zone here. In a production application, you'd want to handle that.\n",
    "    return \"{0:04d}-{1:02d}-{2:02d} {3:02d}:{4:02d}:{5:02d}\".format(\n",
    "      int(text[7:11]),\n",
    "      month_map[text[3:6]],\n",
    "      int(text[0:2]),\n",
    "      int(text[12:14]),\n",
    "      int(text[15:17]),\n",
    "      int(text[18:20])\n",
    "    )"
   ]
  },
  {
   "cell_type": "code",
   "execution_count": 36,
   "metadata": {},
   "outputs": [
    {
     "data": {
      "text/plain": [
       "['01/Jul/1995:00:00:01 -0400',\n",
       " '01/Jul/1995:00:00:06 -0400',\n",
       " '01/Jul/1995:00:00:09 -0400',\n",
       " '01/Jul/1995:00:00:11 -0400',\n",
       " '01/Jul/1995:00:00:11 -0400']"
      ]
     },
     "execution_count": 36,
     "metadata": {},
     "output_type": "execute_result"
    }
   ],
   "source": [
    "sample_ts = [item['timestamp'] for item in logs_df.select('timestamp').take(5)]\n",
    "sample_ts"
   ]
  },
  {
   "cell_type": "code",
   "execution_count": 37,
   "metadata": {},
   "outputs": [
    {
     "data": {
      "text/plain": [
       "['1995-07-01 00:00:01',\n",
       " '1995-07-01 00:00:06',\n",
       " '1995-07-01 00:00:09',\n",
       " '1995-07-01 00:00:11',\n",
       " '1995-07-01 00:00:11']"
      ]
     },
     "execution_count": 37,
     "metadata": {},
     "output_type": "execute_result"
    }
   ],
   "source": [
    "[parse_clf_time(item) for item in sample_ts]"
   ]
  },
  {
   "cell_type": "code",
   "execution_count": 38,
   "metadata": {},
   "outputs": [
    {
     "name": "stdout",
     "output_type": "stream",
     "text": [
      "+--------------------+------+--------------------+--------+------+------------+-------------------+\n",
      "|                host|method|            endpoint|protocol|status|content_size|               time|\n",
      "+--------------------+------+--------------------+--------+------+------------+-------------------+\n",
      "|        199.72.81.55|   GET|    /history/apollo/|HTTP/1.0|   200|        6245|1995-07-01 00:00:01|\n",
      "|unicomp6.unicomp.net|   GET| /shuttle/countdown/|HTTP/1.0|   200|        3985|1995-07-01 00:00:06|\n",
      "|      199.120.110.21|   GET|/shuttle/missions...|HTTP/1.0|   200|        4085|1995-07-01 00:00:09|\n",
      "|  burger.letters.com|   GET|/shuttle/countdow...|HTTP/1.0|   304|           0|1995-07-01 00:00:11|\n",
      "|      199.120.110.21|   GET|/shuttle/missions...|HTTP/1.0|   200|        4179|1995-07-01 00:00:11|\n",
      "|  burger.letters.com|   GET|/images/NASA-logo...|HTTP/1.0|   304|           0|1995-07-01 00:00:12|\n",
      "|  burger.letters.com|   GET|/shuttle/countdow...|HTTP/1.0|   200|           0|1995-07-01 00:00:12|\n",
      "|     205.212.115.106|   GET|/shuttle/countdow...|HTTP/1.0|   200|        3985|1995-07-01 00:00:12|\n",
      "|         d104.aa.net|   GET| /shuttle/countdown/|HTTP/1.0|   200|        3985|1995-07-01 00:00:13|\n",
      "|      129.94.144.152|   GET|                   /|HTTP/1.0|   200|        7074|1995-07-01 00:00:13|\n",
      "+--------------------+------+--------------------+--------+------+------------+-------------------+\n",
      "only showing top 10 rows\n",
      "\n"
     ]
    }
   ],
   "source": [
    "udf_parse_time = udf(parse_clf_time)\n",
    "\n",
    "logs_df = logs_df.select('*', udf_parse_time(logs_df['timestamp']).cast('timestamp').alias('time')).drop('timestamp')\n",
    "logs_df.show(10, truncate=True)"
   ]
  },
  {
   "cell_type": "code",
   "execution_count": 39,
   "metadata": {},
   "outputs": [
    {
     "name": "stdout",
     "output_type": "stream",
     "text": [
      "root\n",
      " |-- host: string (nullable = true)\n",
      " |-- method: string (nullable = true)\n",
      " |-- endpoint: string (nullable = true)\n",
      " |-- protocol: string (nullable = true)\n",
      " |-- status: integer (nullable = true)\n",
      " |-- content_size: integer (nullable = true)\n",
      " |-- time: timestamp (nullable = true)\n",
      "\n"
     ]
    }
   ],
   "source": [
    "logs_df.printSchema()"
   ]
  },
  {
   "cell_type": "code",
   "execution_count": 40,
   "metadata": {},
   "outputs": [
    {
     "data": {
      "text/html": [
       "<div>\n",
       "<style>\n",
       "    .dataframe thead tr:only-child th {\n",
       "        text-align: right;\n",
       "    }\n",
       "\n",
       "    .dataframe thead th {\n",
       "        text-align: left;\n",
       "    }\n",
       "\n",
       "    .dataframe tbody tr th {\n",
       "        vertical-align: top;\n",
       "    }\n",
       "</style>\n",
       "<table border=\"1\" class=\"dataframe\">\n",
       "  <thead>\n",
       "    <tr style=\"text-align: right;\">\n",
       "      <th></th>\n",
       "      <th>host</th>\n",
       "      <th>method</th>\n",
       "      <th>endpoint</th>\n",
       "      <th>protocol</th>\n",
       "      <th>status</th>\n",
       "      <th>content_size</th>\n",
       "      <th>time</th>\n",
       "    </tr>\n",
       "  </thead>\n",
       "  <tbody>\n",
       "    <tr>\n",
       "      <th>0</th>\n",
       "      <td>199.72.81.55</td>\n",
       "      <td>GET</td>\n",
       "      <td>/history/apollo/</td>\n",
       "      <td>HTTP/1.0</td>\n",
       "      <td>200</td>\n",
       "      <td>6245</td>\n",
       "      <td>1995-07-01 00:00:01</td>\n",
       "    </tr>\n",
       "    <tr>\n",
       "      <th>1</th>\n",
       "      <td>unicomp6.unicomp.net</td>\n",
       "      <td>GET</td>\n",
       "      <td>/shuttle/countdown/</td>\n",
       "      <td>HTTP/1.0</td>\n",
       "      <td>200</td>\n",
       "      <td>3985</td>\n",
       "      <td>1995-07-01 00:00:06</td>\n",
       "    </tr>\n",
       "    <tr>\n",
       "      <th>2</th>\n",
       "      <td>199.120.110.21</td>\n",
       "      <td>GET</td>\n",
       "      <td>/shuttle/missions/sts-73/mission-sts-73.html</td>\n",
       "      <td>HTTP/1.0</td>\n",
       "      <td>200</td>\n",
       "      <td>4085</td>\n",
       "      <td>1995-07-01 00:00:09</td>\n",
       "    </tr>\n",
       "    <tr>\n",
       "      <th>3</th>\n",
       "      <td>burger.letters.com</td>\n",
       "      <td>GET</td>\n",
       "      <td>/shuttle/countdown/liftoff.html</td>\n",
       "      <td>HTTP/1.0</td>\n",
       "      <td>304</td>\n",
       "      <td>0</td>\n",
       "      <td>1995-07-01 00:00:11</td>\n",
       "    </tr>\n",
       "    <tr>\n",
       "      <th>4</th>\n",
       "      <td>199.120.110.21</td>\n",
       "      <td>GET</td>\n",
       "      <td>/shuttle/missions/sts-73/sts-73-patch-small.gif</td>\n",
       "      <td>HTTP/1.0</td>\n",
       "      <td>200</td>\n",
       "      <td>4179</td>\n",
       "      <td>1995-07-01 00:00:11</td>\n",
       "    </tr>\n",
       "  </tbody>\n",
       "</table>\n",
       "</div>"
      ],
      "text/plain": [
       "                   host method  \\\n",
       "0          199.72.81.55    GET   \n",
       "1  unicomp6.unicomp.net    GET   \n",
       "2        199.120.110.21    GET   \n",
       "3    burger.letters.com    GET   \n",
       "4        199.120.110.21    GET   \n",
       "\n",
       "                                          endpoint  protocol  status  \\\n",
       "0                                 /history/apollo/  HTTP/1.0     200   \n",
       "1                              /shuttle/countdown/  HTTP/1.0     200   \n",
       "2     /shuttle/missions/sts-73/mission-sts-73.html  HTTP/1.0     200   \n",
       "3                  /shuttle/countdown/liftoff.html  HTTP/1.0     304   \n",
       "4  /shuttle/missions/sts-73/sts-73-patch-small.gif  HTTP/1.0     200   \n",
       "\n",
       "   content_size                time  \n",
       "0          6245 1995-07-01 00:00:01  \n",
       "1          3985 1995-07-01 00:00:06  \n",
       "2          4085 1995-07-01 00:00:09  \n",
       "3             0 1995-07-01 00:00:11  \n",
       "4          4179 1995-07-01 00:00:11  "
      ]
     },
     "execution_count": 40,
     "metadata": {},
     "output_type": "execute_result"
    }
   ],
   "source": [
    "logs_df.limit(5).toPandas()"
   ]
  },
  {
   "cell_type": "markdown",
   "metadata": {},
   "source": [
    "Let's now cache `logs_df` since we will be using it extensively for our data analysis section in the next part!"
   ]
  },
  {
   "cell_type": "markdown",
   "metadata": {},
   "source": [
    "# Section 4 - Data Analysis on our Web Logs\n",
    "\n",
    "Now that we have a DataFrame containing the parsed log file as a data frame, we can perform some interesting exploratory data analysis (EDA)\n",
    "\n",
    "## Example: Content Size Statistics\n",
    "\n",
    "Let's compute some statistics about the sizes of content being returned by the web server. In particular, we'd like to know what are the average, minimum, and maximum content sizes.\n",
    "\n",
    "We can compute the statistics by calling `.describe()` on the `content_size` column of `logs_df`.  The `.describe()` function returns the count, mean, stddev, min, and max of a given column."
   ]
  },
  {
   "cell_type": "code",
   "execution_count": 41,
   "metadata": {},
   "outputs": [
    {
     "data": {
      "text/html": [
       "<div>\n",
       "<style>\n",
       "    .dataframe thead tr:only-child th {\n",
       "        text-align: right;\n",
       "    }\n",
       "\n",
       "    .dataframe thead th {\n",
       "        text-align: left;\n",
       "    }\n",
       "\n",
       "    .dataframe tbody tr th {\n",
       "        vertical-align: top;\n",
       "    }\n",
       "</style>\n",
       "<table border=\"1\" class=\"dataframe\">\n",
       "  <thead>\n",
       "    <tr style=\"text-align: right;\">\n",
       "      <th></th>\n",
       "      <th>summary</th>\n",
       "      <th>content_size</th>\n",
       "    </tr>\n",
       "  </thead>\n",
       "  <tbody>\n",
       "    <tr>\n",
       "      <th>0</th>\n",
       "      <td>count</td>\n",
       "      <td>3461612</td>\n",
       "    </tr>\n",
       "    <tr>\n",
       "      <th>1</th>\n",
       "      <td>mean</td>\n",
       "      <td>18928.844398216785</td>\n",
       "    </tr>\n",
       "    <tr>\n",
       "      <th>2</th>\n",
       "      <td>stddev</td>\n",
       "      <td>73031.47260949228</td>\n",
       "    </tr>\n",
       "    <tr>\n",
       "      <th>3</th>\n",
       "      <td>min</td>\n",
       "      <td>0</td>\n",
       "    </tr>\n",
       "    <tr>\n",
       "      <th>4</th>\n",
       "      <td>max</td>\n",
       "      <td>6823936</td>\n",
       "    </tr>\n",
       "  </tbody>\n",
       "</table>\n",
       "</div>"
      ],
      "text/plain": [
       "  summary        content_size\n",
       "0   count             3461612\n",
       "1    mean  18928.844398216785\n",
       "2  stddev   73031.47260949228\n",
       "3     min                   0\n",
       "4     max             6823936"
      ]
     },
     "execution_count": 41,
     "metadata": {},
     "output_type": "execute_result"
    }
   ],
   "source": [
    "content_size_summary_df = logs_df.describe(['content_size'])\n",
    "content_size_summary_df.toPandas()"
   ]
  },
  {
   "cell_type": "markdown",
   "metadata": {},
   "source": [
    "Alternatively, we can use SQL to directly calculate these statistics.  You can explore many useful functions within the `pyspark.sql.functions` module in the [documentation](https://spark.apache.org/docs/latest/api/python/pyspark.sql.html#module-pyspark.sql.functions).\n",
    "\n",
    "After we apply the `.agg()` function, we call `toPandas()` to extract and convert the result into a `pandas` dataframe which has better formatting on Jupyter notebooks"
   ]
  },
  {
   "cell_type": "code",
   "execution_count": 42,
   "metadata": {},
   "outputs": [
    {
     "data": {
      "text/html": [
       "<div>\n",
       "<style>\n",
       "    .dataframe thead tr:only-child th {\n",
       "        text-align: right;\n",
       "    }\n",
       "\n",
       "    .dataframe thead th {\n",
       "        text-align: left;\n",
       "    }\n",
       "\n",
       "    .dataframe tbody tr th {\n",
       "        vertical-align: top;\n",
       "    }\n",
       "</style>\n",
       "<table border=\"1\" class=\"dataframe\">\n",
       "  <thead>\n",
       "    <tr style=\"text-align: right;\">\n",
       "      <th></th>\n",
       "      <th>min_content_size</th>\n",
       "      <th>max_content_size</th>\n",
       "      <th>mean_content_size</th>\n",
       "      <th>std_content_size</th>\n",
       "      <th>count_content_size</th>\n",
       "    </tr>\n",
       "  </thead>\n",
       "  <tbody>\n",
       "    <tr>\n",
       "      <th>0</th>\n",
       "      <td>0</td>\n",
       "      <td>6823936</td>\n",
       "      <td>18928.844398</td>\n",
       "      <td>73031.472609</td>\n",
       "      <td>3461612</td>\n",
       "    </tr>\n",
       "  </tbody>\n",
       "</table>\n",
       "</div>"
      ],
      "text/plain": [
       "   min_content_size  max_content_size  mean_content_size  std_content_size  \\\n",
       "0                 0           6823936       18928.844398      73031.472609   \n",
       "\n",
       "   count_content_size  \n",
       "0             3461612  "
      ]
     },
     "execution_count": 42,
     "metadata": {},
     "output_type": "execute_result"
    }
   ],
   "source": [
    "from pyspark.sql import functions as F\n",
    "\n",
    "(logs_df.agg(F.min(logs_df['content_size']).alias('min_content_size'),\n",
    "             F.max(logs_df['content_size']).alias('max_content_size'),\n",
    "             F.mean(logs_df['content_size']).alias('mean_content_size'),\n",
    "             F.stddev(logs_df['content_size']).alias('std_content_size'),\n",
    "             F.count(logs_df['content_size']).alias('count_content_size'))\n",
    "        .toPandas())"
   ]
  },
  {
   "cell_type": "markdown",
   "metadata": {},
   "source": [
    "## Example: HTTP Status Code Analysis\n",
    "\n",
    "Next, let's look at the status code values that appear in the log. We want to know which status code values appear in the data and how many times.  \n",
    "\n",
    "We again start with `logs_df`, then group by the `status` column, apply the `.count()` aggregation function, and sort by the `status` column."
   ]
  },
  {
   "cell_type": "code",
   "execution_count": 43,
   "metadata": {
    "collapsed": true
   },
   "outputs": [],
   "source": [
    "status_freq_df = (logs_df\n",
    "                     .groupBy('status')\n",
    "                     .count()\n",
    "                     .sort('status')\n",
    "                     .cache())"
   ]
  },
  {
   "cell_type": "code",
   "execution_count": 44,
   "metadata": {},
   "outputs": [
    {
     "name": "stdout",
     "output_type": "stream",
     "text": [
      "Total distinct HTTP Status Codes: 8\n"
     ]
    }
   ],
   "source": [
    "print('Total distinct HTTP Status Codes:', status_freq_df.count())"
   ]
  },
  {
   "cell_type": "code",
   "execution_count": 45,
   "metadata": {},
   "outputs": [
    {
     "data": {
      "text/html": [
       "<div>\n",
       "<style>\n",
       "    .dataframe thead tr:only-child th {\n",
       "        text-align: right;\n",
       "    }\n",
       "\n",
       "    .dataframe thead th {\n",
       "        text-align: left;\n",
       "    }\n",
       "\n",
       "    .dataframe tbody tr th {\n",
       "        vertical-align: top;\n",
       "    }\n",
       "</style>\n",
       "<table border=\"1\" class=\"dataframe\">\n",
       "  <thead>\n",
       "    <tr style=\"text-align: right;\">\n",
       "      <th></th>\n",
       "      <th>status</th>\n",
       "      <th>count</th>\n",
       "    </tr>\n",
       "  </thead>\n",
       "  <tbody>\n",
       "    <tr>\n",
       "      <th>0</th>\n",
       "      <td>200</td>\n",
       "      <td>3100524</td>\n",
       "    </tr>\n",
       "    <tr>\n",
       "      <th>1</th>\n",
       "      <td>302</td>\n",
       "      <td>73070</td>\n",
       "    </tr>\n",
       "    <tr>\n",
       "      <th>2</th>\n",
       "      <td>304</td>\n",
       "      <td>266773</td>\n",
       "    </tr>\n",
       "    <tr>\n",
       "      <th>3</th>\n",
       "      <td>400</td>\n",
       "      <td>15</td>\n",
       "    </tr>\n",
       "    <tr>\n",
       "      <th>4</th>\n",
       "      <td>403</td>\n",
       "      <td>225</td>\n",
       "    </tr>\n",
       "    <tr>\n",
       "      <th>5</th>\n",
       "      <td>404</td>\n",
       "      <td>20899</td>\n",
       "    </tr>\n",
       "    <tr>\n",
       "      <th>6</th>\n",
       "      <td>500</td>\n",
       "      <td>65</td>\n",
       "    </tr>\n",
       "    <tr>\n",
       "      <th>7</th>\n",
       "      <td>501</td>\n",
       "      <td>41</td>\n",
       "    </tr>\n",
       "  </tbody>\n",
       "</table>\n",
       "</div>"
      ],
      "text/plain": [
       "   status    count\n",
       "0     200  3100524\n",
       "1     302    73070\n",
       "2     304   266773\n",
       "3     400       15\n",
       "4     403      225\n",
       "5     404    20899\n",
       "6     500       65\n",
       "7     501       41"
      ]
     },
     "execution_count": 45,
     "metadata": {},
     "output_type": "execute_result"
    }
   ],
   "source": [
    "status_freq_pd_df = status_freq_df.toPandas()\n",
    "status_freq_pd_df"
   ]
  },
  {
   "cell_type": "code",
   "execution_count": 46,
   "metadata": {},
   "outputs": [
    {
     "data": {
      "text/plain": [
       "<matplotlib.axes._subplots.AxesSubplot at 0x7f6c630d5e10>"
      ]
     },
     "execution_count": 46,
     "metadata": {},
     "output_type": "execute_result"
    },
    {
     "data": {
      "image/png": "[encoded data removed]",
      "text/plain": [
       "<Figure size 432x288 with 1 Axes>"
      ]
     },
     "metadata": {},
     "output_type": "display_data"
    }
   ],
   "source": [
    "import matplotlib.pyplot as plt\n",
    "%matplotlib inline\n",
    "\n",
    "status_freq_pd_df.plot(x='status', y='count', kind='bar')"
   ]
  },
  {
   "cell_type": "code",
   "execution_count": 47,
   "metadata": {},
   "outputs": [
    {
     "name": "stdout",
     "output_type": "stream",
     "text": [
      "+------+-------+------------------+\n",
      "|status|  count|        log(count)|\n",
      "+------+-------+------------------+\n",
      "|   200|3100524|14.947081687429097|\n",
      "|   302|  73070|11.199173164785263|\n",
      "|   304| 266773|12.494153388502301|\n",
      "|   400|     15|  2.70805020110221|\n",
      "|   403|    225|  5.41610040220442|\n",
      "|   404|  20899| 9.947456589918252|\n",
      "|   500|     65| 4.174387269895637|\n",
      "|   501|     41| 3.713572066704308|\n",
      "+------+-------+------------------+\n",
      "\n"
     ]
    }
   ],
   "source": [
    "log_freq_df = status_freq_df.withColumn('log(count)', F.log(status_freq_df['count']))\n",
    "log_freq_df.show()"
   ]
  },
  {
   "cell_type": "markdown",
   "metadata": {},
   "source": [
    "#### Q5: Your Turn: Convert the log\\_freq\\_df to a pandas DataFrame and plot a bar chart displaying counts of each HTTP Status Code"
   ]
  },
  {
   "cell_type": "code",
   "execution_count": 48,
   "metadata": {},
   "outputs": [
    {
     "data": {
      "text/plain": [
       "<matplotlib.axes._subplots.AxesSubplot at 0x7f6c5fe97b38>"
      ]
     },
     "execution_count": 48,
     "metadata": {},
     "output_type": "execute_result"
    },
    {
     "data": {
      "image/png": "[encoded data removed]",
      "text/plain": [
       "<Figure size 432x288 with 1 Axes>"
      ]
     },
     "metadata": {},
     "output_type": "display_data"
    }
   ],
   "source": [
    "# TODO: Replace <FILL IN> with appropriate code\n",
    "log_freq_pd_df = log_freq_df.toPandas()\n",
    "log_freq_pd_df.plot(x='status', y='log(count)', kind='bar')"
   ]
  },
  {
   "cell_type": "markdown",
   "metadata": {},
   "source": [
    "## Your Turn: Q6: Analyzing Frequent Hosts\n",
    "\n",
    "Let's look at hosts that have accessed the server frequently. Try to get the count of total accesses by each `host` and then sort by the counts and display only the top ten most frequent hosts.\n",
    "\n",
    "__Hints:__\n",
    "\n",
    "- Your Spark DataFrame has a `host` column\n",
    "- Get the counts per `host` which would make a `count` column\n",
    "- Sort by the counts. Please check [__the documentation__](https://spark.apache.org/docs/latest/api/python/pyspark.sql.html#pyspark.sql.DataFrame.sort) to see how to sort in reverse\n",
    "- Remember only to get the top 10 rows from the aggregated dataframe and show them"
   ]
  },
  {
   "cell_type": "code",
   "execution_count": 49,
   "metadata": {},
   "outputs": [
    {
     "name": "stdout",
     "output_type": "stream",
     "text": [
      "+-------------------------+\n",
      "|host                     |\n",
      "+-------------------------+\n",
      "|199.72.81.55             |\n",
      "|unicomp6.unicomp.net     |\n",
      "|199.120.110.21           |\n",
      "|burger.letters.com       |\n",
      "|199.120.110.21           |\n",
      "|burger.letters.com       |\n",
      "|burger.letters.com       |\n",
      "|205.212.115.106          |\n",
      "|d104.aa.net              |\n",
      "|129.94.144.152           |\n",
      "|unicomp6.unicomp.net     |\n",
      "|unicomp6.unicomp.net     |\n",
      "|unicomp6.unicomp.net     |\n",
      "|d104.aa.net              |\n",
      "|d104.aa.net              |\n",
      "|d104.aa.net              |\n",
      "|129.94.144.152           |\n",
      "|199.120.110.21           |\n",
      "|ppptky391.asahi-net.or.jp|\n",
      "|net-1-141.eden.com       |\n",
      "+-------------------------+\n",
      "only showing top 20 rows\n",
      "\n"
     ]
    }
   ],
   "source": [
    "# TODO: Replace <FILL IN> with appropriate code\n",
    "\n",
    "host_sum_df = base_df.select(regexp_extract('value', host_pattern, 1).alias('host'))\n",
    "host_sum_df.show(truncate=False)"
   ]
  },
  {
   "cell_type": "code",
   "execution_count": 50,
   "metadata": {},
   "outputs": [
    {
     "data": {
      "text/plain": [
       "piweba3y.prodigy.com    21988\n",
       "piweba4y.prodigy.com    16437\n",
       "piweba1y.prodigy.com    12825\n",
       "edams.ksc.nasa.gov      11964\n",
       "163.206.89.4             9697\n",
       "news.ti.com              8161\n",
       "www-d1.proxy.aol.com     8047\n",
       "alyssa.prodigy.com       8037\n",
       "                         7661\n",
       "siltb10.orl.mmc.com      7573\n",
       "Name: host, dtype: int64"
      ]
     },
     "execution_count": 50,
     "metadata": {},
     "output_type": "execute_result"
    }
   ],
   "source": [
    "host_sum_pd_df = host_sum_df.toPandas()\n",
    "host_sum_pd_df.host.value_counts().head(10)"
   ]
  },
  {
   "cell_type": "markdown",
   "metadata": {},
   "source": [
    "Looks like we have some empty strings as one of the top host names! This teaches us a valuable lesson to not just check for nulls but also potentially empty strings when data wrangling."
   ]
  },
  {
   "cell_type": "markdown",
   "metadata": {},
   "source": [
    "## Your Turn: Q7: Display the Top 20 Frequent EndPoints\n",
    "\n",
    "Now, let's visualize the number of hits to endpoints (URIs) in the log. To perform this task, start with our `logs_df` and group by the `endpoint` column, aggregate by count, and sort in descending order like the previous question. Also remember to show only the top 20 most frequently accessed endpoints"
   ]
  },
  {
   "cell_type": "code",
   "execution_count": 57,
   "metadata": {},
   "outputs": [],
   "source": [
    "# TODO: Replace <FILL IN> with appropriate code\n",
    "\n",
    "paths_df = (logs_df.groupBy('endpoint').count().sort('count', ascending=False).cache())"
   ]
  },
  {
   "cell_type": "code",
   "execution_count": 58,
   "metadata": {},
   "outputs": [
    {
     "data": {
      "text/html": [
       "<div>\n",
       "<style>\n",
       "    .dataframe thead tr:only-child th {\n",
       "        text-align: right;\n",
       "    }\n",
       "\n",
       "    .dataframe thead th {\n",
       "        text-align: left;\n",
       "    }\n",
       "\n",
       "    .dataframe tbody tr th {\n",
       "        vertical-align: top;\n",
       "    }\n",
       "</style>\n",
       "<table border=\"1\" class=\"dataframe\">\n",
       "  <thead>\n",
       "    <tr style=\"text-align: right;\">\n",
       "      <th></th>\n",
       "      <th>endpoint</th>\n",
       "      <th>count</th>\n",
       "    </tr>\n",
       "  </thead>\n",
       "  <tbody>\n",
       "    <tr>\n",
       "      <th>0</th>\n",
       "      <td>/images/NASA-logosmall.gif</td>\n",
       "      <td>208714</td>\n",
       "    </tr>\n",
       "    <tr>\n",
       "      <th>1</th>\n",
       "      <td>/images/KSC-logosmall.gif</td>\n",
       "      <td>164970</td>\n",
       "    </tr>\n",
       "    <tr>\n",
       "      <th>2</th>\n",
       "      <td>/images/MOSAIC-logosmall.gif</td>\n",
       "      <td>127908</td>\n",
       "    </tr>\n",
       "    <tr>\n",
       "      <th>3</th>\n",
       "      <td>/images/USA-logosmall.gif</td>\n",
       "      <td>127074</td>\n",
       "    </tr>\n",
       "    <tr>\n",
       "      <th>4</th>\n",
       "      <td>/images/WORLD-logosmall.gif</td>\n",
       "      <td>125925</td>\n",
       "    </tr>\n",
       "    <tr>\n",
       "      <th>5</th>\n",
       "      <td>/images/ksclogo-medium.gif</td>\n",
       "      <td>121572</td>\n",
       "    </tr>\n",
       "    <tr>\n",
       "      <th>6</th>\n",
       "      <td>/ksc.html</td>\n",
       "      <td>83909</td>\n",
       "    </tr>\n",
       "    <tr>\n",
       "      <th>7</th>\n",
       "      <td>/images/launch-logo.gif</td>\n",
       "      <td>76006</td>\n",
       "    </tr>\n",
       "    <tr>\n",
       "      <th>8</th>\n",
       "      <td>/history/apollo/images/apollo-logo1.gif</td>\n",
       "      <td>68896</td>\n",
       "    </tr>\n",
       "    <tr>\n",
       "      <th>9</th>\n",
       "      <td>/shuttle/countdown/</td>\n",
       "      <td>64736</td>\n",
       "    </tr>\n",
       "    <tr>\n",
       "      <th>10</th>\n",
       "      <td>/</td>\n",
       "      <td>63171</td>\n",
       "    </tr>\n",
       "    <tr>\n",
       "      <th>11</th>\n",
       "      <td>/images/ksclogosmall.gif</td>\n",
       "      <td>61393</td>\n",
       "    </tr>\n",
       "    <tr>\n",
       "      <th>12</th>\n",
       "      <td>/shuttle/missions/missions.html</td>\n",
       "      <td>47315</td>\n",
       "    </tr>\n",
       "    <tr>\n",
       "      <th>13</th>\n",
       "      <td>/images/launchmedium.gif</td>\n",
       "      <td>40687</td>\n",
       "    </tr>\n",
       "    <tr>\n",
       "      <th>14</th>\n",
       "      <td>/htbin/cdt_main.pl</td>\n",
       "      <td>39871</td>\n",
       "    </tr>\n",
       "    <tr>\n",
       "      <th>15</th>\n",
       "      <td>/shuttle/missions/sts-69/mission-sts-69.html</td>\n",
       "      <td>31574</td>\n",
       "    </tr>\n",
       "    <tr>\n",
       "      <th>16</th>\n",
       "      <td>/shuttle/countdown/liftoff.html</td>\n",
       "      <td>29865</td>\n",
       "    </tr>\n",
       "    <tr>\n",
       "      <th>17</th>\n",
       "      <td>/icons/menu.xbm</td>\n",
       "      <td>29190</td>\n",
       "    </tr>\n",
       "    <tr>\n",
       "      <th>18</th>\n",
       "      <td>/shuttle/missions/sts-69/sts-69-patch-small.gif</td>\n",
       "      <td>29118</td>\n",
       "    </tr>\n",
       "    <tr>\n",
       "      <th>19</th>\n",
       "      <td>/icons/blank.xbm</td>\n",
       "      <td>28852</td>\n",
       "    </tr>\n",
       "  </tbody>\n",
       "</table>\n",
       "</div>"
      ],
      "text/plain": [
       "                                           endpoint   count\n",
       "0                        /images/NASA-logosmall.gif  208714\n",
       "1                         /images/KSC-logosmall.gif  164970\n",
       "2                      /images/MOSAIC-logosmall.gif  127908\n",
       "3                         /images/USA-logosmall.gif  127074\n",
       "4                       /images/WORLD-logosmall.gif  125925\n",
       "5                        /images/ksclogo-medium.gif  121572\n",
       "6                                         /ksc.html   83909\n",
       "7                           /images/launch-logo.gif   76006\n",
       "8           /history/apollo/images/apollo-logo1.gif   68896\n",
       "9                               /shuttle/countdown/   64736\n",
       "10                                                /   63171\n",
       "11                         /images/ksclogosmall.gif   61393\n",
       "12                  /shuttle/missions/missions.html   47315\n",
       "13                         /images/launchmedium.gif   40687\n",
       "14                               /htbin/cdt_main.pl   39871\n",
       "15     /shuttle/missions/sts-69/mission-sts-69.html   31574\n",
       "16                  /shuttle/countdown/liftoff.html   29865\n",
       "17                                  /icons/menu.xbm   29190\n",
       "18  /shuttle/missions/sts-69/sts-69-patch-small.gif   29118\n",
       "19                                 /icons/blank.xbm   28852"
      ]
     },
     "execution_count": 58,
     "metadata": {},
     "output_type": "execute_result"
    }
   ],
   "source": [
    "paths_pd_df = paths_df.toPandas()\n",
    "paths_pd_df.head(20)"
   ]
  },
  {
   "cell_type": "markdown",
   "metadata": {},
   "source": [
    "## Your Turn: Q8: Top Ten Error Endpoints\n",
    "\n",
    "What are the top ten endpoints requested which did not have return code 200 (HTTP Status OK)? \n",
    "\n",
    "Create a sorted list containing the endpoints and the number of times that they were accessed with a non-200 return code and show the top ten.\n",
    "\n",
    "Think about the steps that you need to perform to determine which endpoints did not have a 200 return code (combination of filtering, grouping, sorting and selecting the top ten aggregated records)"
   ]
  },
  {
   "cell_type": "code",
   "execution_count": 59,
   "metadata": {
    "collapsed": true
   },
   "outputs": [],
   "source": [
    "# TODO: Replace <FILL IN> with appropriate code\n",
    "\n",
    "not200_df = logs_df.filter(logs_df['status'] != 200)\n",
    "\n",
    "error_endpoints_freq_df = (not200_df\n",
    "                               .groupBy('status')\n",
    "                               .count()\n",
    "                               .sort('count', ascending=False)\n",
    "                          )"
   ]
  },
  {
   "cell_type": "code",
   "execution_count": 60,
   "metadata": {},
   "outputs": [
    {
     "name": "stdout",
     "output_type": "stream",
     "text": [
      "+------+------+\n",
      "|status|count |\n",
      "+------+------+\n",
      "|304   |266773|\n",
      "|302   |73070 |\n",
      "|404   |20899 |\n",
      "|403   |225   |\n",
      "|500   |65    |\n",
      "|501   |41    |\n",
      "|400   |15    |\n",
      "+------+------+\n",
      "\n"
     ]
    }
   ],
   "source": [
    "error_endpoints_freq_df.show(truncate=False)"
   ]
  },
  {
   "cell_type": "markdown",
   "metadata": {},
   "source": [
    "## Example: Number of Unique Daily Hosts\n",
    "\n",
    "For an advanced example, let's look at a way to determine the number of unique hosts in the entire log on a day-by-day basis. This computation will give us counts of the number of unique daily hosts. \n",
    "\n",
    "We'd like a DataFrame sorted by increasing day of the month which includes the day of the month and the associated number of unique hosts for that day. \n",
    "\n",
    "Think about the steps that you need to perform to count the number of different hosts that make requests *each* day.\n",
    "*Since the log only covers a single month, you can ignore the month.*  You may want to use the [`dayofmonth` function](https://spark.apache.org/docs/latest/api/python/pyspark.sql.html#pyspark.sql.functions.dayofmonth) in the `pyspark.sql.functions` module (which we have already imported as __`F`__.\n",
    "\n",
    "\n",
    "**`host_day_df`**\n",
    "\n",
    "A DataFrame with two columns\n",
    "\n",
    "| column | explanation          |\n",
    "| ------ | -------------------- |\n",
    "| `host` | the host name        |\n",
    "| `day`  | the day of the month |\n",
    "\n",
    "There will be one row in this DataFrame for each row in `logs_df`. Essentially, we are just transforming each row of `logs_df`. For example, for this row in `logs_df`:\n",
    "\n",
    "```\n",
    "unicomp6.unicomp.net - - [01/Aug/1995:00:35:41 -0400] \"GET /shuttle/missions/sts-73/news HTTP/1.0\" 302 -\n",
    "```\n",
    "\n",
    "your `host_day_df` should have:\n",
    "\n",
    "```\n",
    "unicomp6.unicomp.net 1\n",
    "```"
   ]
  },
  {
   "cell_type": "code",
   "execution_count": 61,
   "metadata": {},
   "outputs": [
    {
     "name": "stdout",
     "output_type": "stream",
     "text": [
      "+--------------------+---+\n",
      "|host                |day|\n",
      "+--------------------+---+\n",
      "|199.72.81.55        |1  |\n",
      "|unicomp6.unicomp.net|1  |\n",
      "|199.120.110.21      |1  |\n",
      "|burger.letters.com  |1  |\n",
      "|199.120.110.21      |1  |\n",
      "+--------------------+---+\n",
      "only showing top 5 rows\n",
      "\n"
     ]
    }
   ],
   "source": [
    "host_day_df = logs_df.select(logs_df.host, \n",
    "                             F.dayofmonth('time').alias('day'))\n",
    "host_day_df.show(5, truncate=False)"
   ]
  },
  {
   "cell_type": "markdown",
   "metadata": {},
   "source": [
    "**`host_day_distinct_df`**\n",
    "\n",
    "This DataFrame has the same columns as `host_day_distinct_df`, but with duplicate (`day`, `host`) rows removed."
   ]
  },
  {
   "cell_type": "code",
   "execution_count": 62,
   "metadata": {},
   "outputs": [
    {
     "name": "stdout",
     "output_type": "stream",
     "text": [
      "+-----------------------+---+\n",
      "|host                   |day|\n",
      "+-----------------------+---+\n",
      "|129.94.144.152         |1  |\n",
      "|slip1.yab.com          |1  |\n",
      "|205.184.190.47         |1  |\n",
      "|204.120.34.71          |1  |\n",
      "|ppp3_130.bekkoame.or.jp|1  |\n",
      "+-----------------------+---+\n",
      "only showing top 5 rows\n",
      "\n"
     ]
    }
   ],
   "source": [
    "host_day_distinct_df = (host_day_df\n",
    "                          .dropDuplicates())\n",
    "host_day_distinct_df.show(5, truncate=False)"
   ]
  },
  {
   "cell_type": "markdown",
   "metadata": {},
   "source": [
    "**`daily_unique_hosts_df`**\n",
    "\n",
    "A DataFrame with two columns:\n",
    "\n",
    "| column  | explanation                                        |\n",
    "| ------- | -------------------------------------------------- |\n",
    "| `day`   | the day of the month                               |\n",
    "| `count` | the number of unique requesting hosts for that day |"
   ]
  },
  {
   "cell_type": "code",
   "execution_count": 63,
   "metadata": {},
   "outputs": [
    {
     "data": {
      "text/html": [
       "<div>\n",
       "<style>\n",
       "    .dataframe thead tr:only-child th {\n",
       "        text-align: right;\n",
       "    }\n",
       "\n",
       "    .dataframe thead th {\n",
       "        text-align: left;\n",
       "    }\n",
       "\n",
       "    .dataframe tbody tr th {\n",
       "        vertical-align: top;\n",
       "    }\n",
       "</style>\n",
       "<table border=\"1\" class=\"dataframe\">\n",
       "  <thead>\n",
       "    <tr style=\"text-align: right;\">\n",
       "      <th></th>\n",
       "      <th>0</th>\n",
       "      <th>1</th>\n",
       "      <th>2</th>\n",
       "      <th>3</th>\n",
       "      <th>4</th>\n",
       "      <th>5</th>\n",
       "      <th>6</th>\n",
       "      <th>7</th>\n",
       "      <th>8</th>\n",
       "      <th>9</th>\n",
       "      <th>...</th>\n",
       "      <th>21</th>\n",
       "      <th>22</th>\n",
       "      <th>23</th>\n",
       "      <th>24</th>\n",
       "      <th>25</th>\n",
       "      <th>26</th>\n",
       "      <th>27</th>\n",
       "      <th>28</th>\n",
       "      <th>29</th>\n",
       "      <th>30</th>\n",
       "    </tr>\n",
       "  </thead>\n",
       "  <tbody>\n",
       "    <tr>\n",
       "      <th>day</th>\n",
       "      <td>1</td>\n",
       "      <td>2</td>\n",
       "      <td>3</td>\n",
       "      <td>4</td>\n",
       "      <td>5</td>\n",
       "      <td>6</td>\n",
       "      <td>7</td>\n",
       "      <td>8</td>\n",
       "      <td>9</td>\n",
       "      <td>10</td>\n",
       "      <td>...</td>\n",
       "      <td>22</td>\n",
       "      <td>23</td>\n",
       "      <td>24</td>\n",
       "      <td>25</td>\n",
       "      <td>26</td>\n",
       "      <td>27</td>\n",
       "      <td>28</td>\n",
       "      <td>29</td>\n",
       "      <td>30</td>\n",
       "      <td>31</td>\n",
       "    </tr>\n",
       "    <tr>\n",
       "      <th>count</th>\n",
       "      <td>7609</td>\n",
       "      <td>4858</td>\n",
       "      <td>10238</td>\n",
       "      <td>9411</td>\n",
       "      <td>9640</td>\n",
       "      <td>10133</td>\n",
       "      <td>10048</td>\n",
       "      <td>7112</td>\n",
       "      <td>6699</td>\n",
       "      <td>8532</td>\n",
       "      <td>...</td>\n",
       "      <td>6828</td>\n",
       "      <td>6797</td>\n",
       "      <td>7946</td>\n",
       "      <td>8333</td>\n",
       "      <td>6741</td>\n",
       "      <td>6846</td>\n",
       "      <td>6090</td>\n",
       "      <td>4825</td>\n",
       "      <td>5265</td>\n",
       "      <td>5913</td>\n",
       "    </tr>\n",
       "  </tbody>\n",
       "</table>\n",
       "<p>2 rows × 31 columns</p>\n",
       "</div>"
      ],
      "text/plain": [
       "         0     1      2     3     4      5      6     7     8     9   ...   \\\n",
       "day       1     2      3     4     5      6      7     8     9    10  ...    \n",
       "count  7609  4858  10238  9411  9640  10133  10048  7112  6699  8532  ...    \n",
       "\n",
       "         21    22    23    24    25    26    27    28    29    30  \n",
       "day      22    23    24    25    26    27    28    29    30    31  \n",
       "count  6828  6797  7946  8333  6741  6846  6090  4825  5265  5913  \n",
       "\n",
       "[2 rows x 31 columns]"
      ]
     },
     "execution_count": 63,
     "metadata": {},
     "output_type": "execute_result"
    }
   ],
   "source": [
    "daily_hosts_df = (host_day_distinct_df\n",
    "                     .groupBy('day')\n",
    "                     .count()\n",
    "                     .sort(\"day\"))\n",
    "daily_hosts_df = daily_hosts_df.toPandas()\n",
    "daily_hosts_df.T"
   ]
  },
  {
   "cell_type": "code",
   "execution_count": 64,
   "metadata": {},
   "outputs": [
    {
     "data": {
      "text/plain": [
       "<matplotlib.axes._subplots.AxesSubplot at 0x7f6c32e425c0>"
      ]
     },
     "execution_count": 64,
     "metadata": {},
     "output_type": "execute_result"
    },
    {
     "data": {
      "image/png": "[encoded data removed]",
      "text/plain": [
       "<Figure size 432x288 with 1 Axes>"
      ]
     },
     "metadata": {},
     "output_type": "display_data"
    }
   ],
   "source": [
    "daily_hosts_df.plot(x='day', y='count', kind='line')"
   ]
  },
  {
   "cell_type": "markdown",
   "metadata": {},
   "source": [
    "## Your Turn: Q9: Counting 404 Response Codes\n",
    "\n",
    "Create a DataFrame containing only log records with a 404 status code (Not Found). \n",
    "\n",
    "Make sure you `cache()` the `not_found_df` dataframe as we will use it in the rest of the exercises here.\n",
    "\n",
    "__How many 404 records are in the log?__"
   ]
  },
  {
   "cell_type": "code",
   "execution_count": 89,
   "metadata": {},
   "outputs": [
    {
     "name": "stdout",
     "output_type": "stream",
     "text": [
      "Total 404 responses: 20899\n"
     ]
    }
   ],
   "source": [
    "# TODO: Replace <FILL IN> with appropriate code\n",
    "\n",
    "not_found_df = logs_df.filter(logs_df['status'] == 404).cache()\n",
    "print(('Total 404 responses: {}').format(not_found_df.count()))"
   ]
  },
  {
   "cell_type": "markdown",
   "metadata": {},
   "source": [
    "## Your Turn: Q10: Listing the Top Twenty 404 Response Code Endpoints\n",
    "\n",
    "Using the DataFrame containing only log records with a 404 response code that you cached in Q9, print out a list of the top twenty endpoints that generate the most 404 errors.\n",
    "\n",
    "*Remember, top endpoints should be in sorted order*"
   ]
  },
  {
   "cell_type": "code",
   "execution_count": 90,
   "metadata": {},
   "outputs": [
    {
     "name": "stdout",
     "output_type": "stream",
     "text": [
      "+-----------------------------------------------------------------+-----+\n",
      "|endpoint                                                         |count|\n",
      "+-----------------------------------------------------------------+-----+\n",
      "|/pub/winvn/readme.txt                                            |2004 |\n",
      "|/pub/winvn/release.txt                                           |1732 |\n",
      "|/shuttle/missions/STS-69/mission-STS-69.html                     |683  |\n",
      "|/shuttle/missions/sts-68/ksc-upclose.gif                         |428  |\n",
      "|/history/apollo/a-001/a-001-patch-small.gif                      |384  |\n",
      "|/history/apollo/sa-1/sa-1-patch-small.gif                        |383  |\n",
      "|/://spacelink.msfc.nasa.gov                                      |381  |\n",
      "|/images/crawlerway-logo.gif                                      |374  |\n",
      "|/elv/DELTA/uncons.htm                                            |372  |\n",
      "|/history/apollo/pad-abort-test-1/pad-abort-test-1-patch-small.gif|359  |\n",
      "|/images/nasa-logo.gif                                            |319  |\n",
      "|/shuttle/resources/orbiters/atlantis.gif                         |314  |\n",
      "|/history/apollo/apollo-13.html                                   |304  |\n",
      "|/shuttle/resources/orbiters/discovery.gif                        |263  |\n",
      "|/shuttle/missions/sts-71/images/KSC-95EC-0916.txt                |190  |\n",
      "|/shuttle/resources/orbiters/challenger.gif                       |170  |\n",
      "|/shuttle/missions/technology/sts-newsref/stsref-toc.html         |158  |\n",
      "|/history/apollo/images/little-joe.jpg                            |150  |\n",
      "|/images/lf-logo.gif                                              |143  |\n",
      "|/history/apollo/publications/sp-350/sp-350.txt~                  |140  |\n",
      "+-----------------------------------------------------------------+-----+\n",
      "only showing top 20 rows\n",
      "\n"
     ]
    }
   ],
   "source": [
    "# TODO: Replace <FILL IN> with appropriate code\n",
    "\n",
    "hosts_404_count_df = (not_found_df\n",
    "                          .groupBy('endpoint')\n",
    "                          .count()\n",
    "                          .sort('count', ascending=False)\n",
    "                     )\n",
    "\n",
    "hosts_404_count_df.show(truncate=False)"
   ]
  },
  {
   "cell_type": "markdown",
   "metadata": {},
   "source": [
    "## Your Turn: Q11: Visualizing 404 Errors per Day\n",
    "\n",
    "Let's explore the 404 records temporally now. Similar to the example showing the number of unique daily hosts, break down the 404 requests by day and get the daily counts sorted by day in `errors_by_date_sorted_df`.\n",
    "\n",
    "- Display the results as a pandas dataframe \n",
    "- Also visualize the same dataframe then as a line chart"
   ]
  },
  {
   "cell_type": "code",
   "execution_count": 92,
   "metadata": {},
   "outputs": [
    {
     "data": {
      "text/html": [
       "<div>\n",
       "<style>\n",
       "    .dataframe thead tr:only-child th {\n",
       "        text-align: right;\n",
       "    }\n",
       "\n",
       "    .dataframe thead th {\n",
       "        text-align: left;\n",
       "    }\n",
       "\n",
       "    .dataframe tbody tr th {\n",
       "        vertical-align: top;\n",
       "    }\n",
       "</style>\n",
       "<table border=\"1\" class=\"dataframe\">\n",
       "  <thead>\n",
       "    <tr style=\"text-align: right;\">\n",
       "      <th></th>\n",
       "      <th>0</th>\n",
       "      <th>1</th>\n",
       "      <th>2</th>\n",
       "      <th>3</th>\n",
       "      <th>4</th>\n",
       "      <th>5</th>\n",
       "      <th>6</th>\n",
       "      <th>7</th>\n",
       "      <th>8</th>\n",
       "      <th>9</th>\n",
       "      <th>...</th>\n",
       "      <th>21</th>\n",
       "      <th>22</th>\n",
       "      <th>23</th>\n",
       "      <th>24</th>\n",
       "      <th>25</th>\n",
       "      <th>26</th>\n",
       "      <th>27</th>\n",
       "      <th>28</th>\n",
       "      <th>29</th>\n",
       "      <th>30</th>\n",
       "    </tr>\n",
       "  </thead>\n",
       "  <tbody>\n",
       "    <tr>\n",
       "      <th>dayofmonth(time)</th>\n",
       "      <td>1</td>\n",
       "      <td>2</td>\n",
       "      <td>3</td>\n",
       "      <td>4</td>\n",
       "      <td>5</td>\n",
       "      <td>6</td>\n",
       "      <td>7</td>\n",
       "      <td>8</td>\n",
       "      <td>9</td>\n",
       "      <td>10</td>\n",
       "      <td>...</td>\n",
       "      <td>22</td>\n",
       "      <td>23</td>\n",
       "      <td>24</td>\n",
       "      <td>25</td>\n",
       "      <td>26</td>\n",
       "      <td>27</td>\n",
       "      <td>28</td>\n",
       "      <td>29</td>\n",
       "      <td>30</td>\n",
       "      <td>31</td>\n",
       "    </tr>\n",
       "    <tr>\n",
       "      <th>count</th>\n",
       "      <td>559</td>\n",
       "      <td>291</td>\n",
       "      <td>778</td>\n",
       "      <td>705</td>\n",
       "      <td>733</td>\n",
       "      <td>1013</td>\n",
       "      <td>1107</td>\n",
       "      <td>691</td>\n",
       "      <td>627</td>\n",
       "      <td>713</td>\n",
       "      <td>...</td>\n",
       "      <td>480</td>\n",
       "      <td>578</td>\n",
       "      <td>748</td>\n",
       "      <td>876</td>\n",
       "      <td>702</td>\n",
       "      <td>706</td>\n",
       "      <td>504</td>\n",
       "      <td>420</td>\n",
       "      <td>571</td>\n",
       "      <td>526</td>\n",
       "    </tr>\n",
       "  </tbody>\n",
       "</table>\n",
       "<p>2 rows × 31 columns</p>\n",
       "</div>"
      ],
      "text/plain": [
       "                   0    1    2    3    4     5     6    7    8    9  ...   \\\n",
       "dayofmonth(time)    1    2    3    4    5     6     7    8    9   10 ...    \n",
       "count             559  291  778  705  733  1013  1107  691  627  713 ...    \n",
       "\n",
       "                   21   22   23   24   25   26   27   28   29   30  \n",
       "dayofmonth(time)   22   23   24   25   26   27   28   29   30   31  \n",
       "count             480  578  748  876  702  706  504  420  571  526  \n",
       "\n",
       "[2 rows x 31 columns]"
      ]
     },
     "execution_count": 92,
     "metadata": {},
     "output_type": "execute_result"
    }
   ],
   "source": [
    "# TODO: Replace <FILL IN> with appropriate code\n",
    "\n",
    "errors_by_date_sorted_df = (not_found_df\n",
    "                                .groupBy(F.dayofmonth('time'))\n",
    "                                .count()\n",
    "                                .sort(F.dayofmonth('time'))\n",
    "                           )\n",
    "\n",
    "errors_by_date_sorted_df = errors_by_date_sorted_df.toPandas()\n",
    "errors_by_date_sorted_df.T"
   ]
  },
  {
   "cell_type": "code",
   "execution_count": 95,
   "metadata": {},
   "outputs": [
    {
     "data": {
      "text/plain": [
       "<matplotlib.axes._subplots.AxesSubplot at 0x7f6c5242dd68>"
      ]
     },
     "execution_count": 95,
     "metadata": {},
     "output_type": "execute_result"
    },
    {
     "data": {
      "image/png": "[encoded data removed]",
      "text/plain": [
       "<Figure size 432x288 with 1 Axes>"
      ]
     },
     "metadata": {},
     "output_type": "display_data"
    }
   ],
   "source": [
    "errors_by_date_sorted_df.plot(x=\"dayofmonth(time)\", y=\"count\", kind=\"line\")"
   ]
  },
  {
   "cell_type": "markdown",
   "metadata": {},
   "source": [
    "## Your Turn: Q12: Visualizing Hourly 404 Errors\n",
    "\n",
    "Using the DataFrame `not_found_df` you cached in the Q10, group and sort by hour of the day in increasing order, to create a DataFrame containing the total number of 404 responses for HTTP requests for each hour of the day (midnight starts at 0). \n",
    "\n",
    "- Remember to check out the [__hour__](https://spark.apache.org/docs/latest/api/python/pyspark.sql.html#pyspark.sql.functions.hour) function and use it (we have already imported __`pyspark.sql.functions`__ as __`F`__ earlier\n",
    "- Output should be a bar graph displaying the total number of 404 errors per hour"
   ]
  },
  {
   "cell_type": "code",
   "execution_count": 98,
   "metadata": {},
   "outputs": [
    {
     "data": {
      "text/html": [
       "<div>\n",
       "<style>\n",
       "    .dataframe thead tr:only-child th {\n",
       "        text-align: right;\n",
       "    }\n",
       "\n",
       "    .dataframe thead th {\n",
       "        text-align: left;\n",
       "    }\n",
       "\n",
       "    .dataframe tbody tr th {\n",
       "        vertical-align: top;\n",
       "    }\n",
       "</style>\n",
       "<table border=\"1\" class=\"dataframe\">\n",
       "  <thead>\n",
       "    <tr style=\"text-align: right;\">\n",
       "      <th></th>\n",
       "      <th>0</th>\n",
       "      <th>1</th>\n",
       "      <th>2</th>\n",
       "      <th>3</th>\n",
       "      <th>4</th>\n",
       "      <th>5</th>\n",
       "      <th>6</th>\n",
       "      <th>7</th>\n",
       "      <th>8</th>\n",
       "      <th>9</th>\n",
       "      <th>...</th>\n",
       "      <th>14</th>\n",
       "      <th>15</th>\n",
       "      <th>16</th>\n",
       "      <th>17</th>\n",
       "      <th>18</th>\n",
       "      <th>19</th>\n",
       "      <th>20</th>\n",
       "      <th>21</th>\n",
       "      <th>22</th>\n",
       "      <th>23</th>\n",
       "    </tr>\n",
       "  </thead>\n",
       "  <tbody>\n",
       "    <tr>\n",
       "      <th>hour(time)</th>\n",
       "      <td>0</td>\n",
       "      <td>1</td>\n",
       "      <td>2</td>\n",
       "      <td>3</td>\n",
       "      <td>4</td>\n",
       "      <td>5</td>\n",
       "      <td>6</td>\n",
       "      <td>7</td>\n",
       "      <td>8</td>\n",
       "      <td>9</td>\n",
       "      <td>...</td>\n",
       "      <td>14</td>\n",
       "      <td>15</td>\n",
       "      <td>16</td>\n",
       "      <td>17</td>\n",
       "      <td>18</td>\n",
       "      <td>19</td>\n",
       "      <td>20</td>\n",
       "      <td>21</td>\n",
       "      <td>22</td>\n",
       "      <td>23</td>\n",
       "    </tr>\n",
       "    <tr>\n",
       "      <th>count</th>\n",
       "      <td>774</td>\n",
       "      <td>648</td>\n",
       "      <td>868</td>\n",
       "      <td>603</td>\n",
       "      <td>351</td>\n",
       "      <td>307</td>\n",
       "      <td>269</td>\n",
       "      <td>458</td>\n",
       "      <td>705</td>\n",
       "      <td>840</td>\n",
       "      <td>...</td>\n",
       "      <td>1274</td>\n",
       "      <td>1382</td>\n",
       "      <td>1181</td>\n",
       "      <td>1203</td>\n",
       "      <td>930</td>\n",
       "      <td>852</td>\n",
       "      <td>815</td>\n",
       "      <td>879</td>\n",
       "      <td>915</td>\n",
       "      <td>939</td>\n",
       "    </tr>\n",
       "  </tbody>\n",
       "</table>\n",
       "<p>2 rows × 24 columns</p>\n",
       "</div>"
      ],
      "text/plain": [
       "             0    1    2    3    4    5    6    7    8    9  ...     14    15  \\\n",
       "hour(time)    0    1    2    3    4    5    6    7    8    9 ...     14    15   \n",
       "count       774  648  868  603  351  307  269  458  705  840 ...   1274  1382   \n",
       "\n",
       "              16    17   18   19   20   21   22   23  \n",
       "hour(time)    16    17   18   19   20   21   22   23  \n",
       "count       1181  1203  930  852  815  879  915  939  \n",
       "\n",
       "[2 rows x 24 columns]"
      ]
     },
     "execution_count": 98,
     "metadata": {},
     "output_type": "execute_result"
    }
   ],
   "source": [
    "# TODO: Replace <FILL IN> with appropriate code\n",
    "\n",
    "hourly_avg_errors_sorted_df = (not_found_df\n",
    "                                   .groupby(F.hour('time'))\n",
    "                                    .count()\n",
    "                                   .sort(F.hour('time'))\n",
    "                              )\n",
    "hourly_avg_errors_sorted_df = hourly_avg_errors_sorted_df.toPandas()\n",
    "hourly_avg_errors_sorted_df.T"
   ]
  },
  {
   "cell_type": "code",
   "execution_count": 99,
   "metadata": {},
   "outputs": [
    {
     "data": {
      "text/plain": [
       "<matplotlib.axes._subplots.AxesSubplot at 0x7f6c53865390>"
      ]
     },
     "execution_count": 99,
     "metadata": {},
     "output_type": "execute_result"
    },
    {
     "data": {
      "image/png": "[encoded data removed]",
      "text/plain": [
       "<Figure size 432x288 with 1 Axes>"
      ]
     },
     "metadata": {},
     "output_type": "display_data"
    }
   ],
   "source": [
    "hourly_avg_errors_sorted_df.plot(x=\"hour(time)\", y=\"count\", kind=\"bar\")"
   ]
  },
  {
   "cell_type": "code",
   "execution_count": null,
   "metadata": {
    "collapsed": true
   },
   "outputs": [],
   "source": []
  }
 ],
 "metadata": {
  "kernelspec": {
   "display_name": "Python 3",
   "language": "python",
   "name": "python3"
  },
  "language_info": {
   "codemirror_mode": {
    "name": "ipython",
    "version": 3
   },
   "file_extension": ".py",
   "mimetype": "text/x-python",
   "name": "python",
   "nbconvert_exporter": "python",
   "pygments_lexer": "ipython3",
   "version": "3.6.2"
  }
 },
 "nbformat": 4,
 "nbformat_minor": 2
}
